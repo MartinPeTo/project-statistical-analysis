{
 "cells": [
  {
   "cell_type": "code",
   "execution_count": 6,
   "metadata": {},
   "outputs": [],
   "source": [
    "#Importamos librerias\n",
    "import pandas as pd\n",
    "import numpy as np"
   ]
  },
  {
   "cell_type": "code",
   "execution_count": 7,
   "metadata": {},
   "outputs": [
    {
     "data": {
      "text/html": [
       "<div>\n",
       "<style scoped>\n",
       "    .dataframe tbody tr th:only-of-type {\n",
       "        vertical-align: middle;\n",
       "    }\n",
       "\n",
       "    .dataframe tbody tr th {\n",
       "        vertical-align: top;\n",
       "    }\n",
       "\n",
       "    .dataframe thead th {\n",
       "        text-align: right;\n",
       "    }\n",
       "</style>\n",
       "<table border=\"1\" class=\"dataframe\">\n",
       "  <thead>\n",
       "    <tr style=\"text-align: right;\">\n",
       "      <th></th>\n",
       "      <th>Número d'expedient</th>\n",
       "      <th>Codi districte</th>\n",
       "      <th>Nom districte</th>\n",
       "      <th>Codi barri</th>\n",
       "      <th>Nom barri</th>\n",
       "      <th>Codi carrer</th>\n",
       "      <th>Nom carrer</th>\n",
       "      <th>Num postal caption</th>\n",
       "      <th>Descripció dia setmana</th>\n",
       "      <th>Dia setmana</th>\n",
       "      <th>...</th>\n",
       "      <th>Descripció torn</th>\n",
       "      <th>Hora de dia</th>\n",
       "      <th>Descripció causa vianant</th>\n",
       "      <th>Desc. Tipus vehicle implicat</th>\n",
       "      <th>Descripció sexe</th>\n",
       "      <th>Descripció tipus persona</th>\n",
       "      <th>Edat</th>\n",
       "      <th>Descripció victimització</th>\n",
       "      <th>Coordenada UTM (Y)</th>\n",
       "      <th>Coordenada UTM (X)</th>\n",
       "    </tr>\n",
       "  </thead>\n",
       "  <tbody>\n",
       "    <tr>\n",
       "      <td>0</td>\n",
       "      <td>2011S000321</td>\n",
       "      <td>2</td>\n",
       "      <td>Eixample</td>\n",
       "      <td>7</td>\n",
       "      <td>la Dreta de l'Eixample</td>\n",
       "      <td>169409</td>\n",
       "      <td>Corts Catalanes</td>\n",
       "      <td>9998 9998</td>\n",
       "      <td>Dilluns</td>\n",
       "      <td>Dl</td>\n",
       "      <td>...</td>\n",
       "      <td>Tarda</td>\n",
       "      <td>21</td>\n",
       "      <td>No és causa del  vianant</td>\n",
       "      <td>Motocicleta</td>\n",
       "      <td>Home</td>\n",
       "      <td>Conductor</td>\n",
       "      <td>33</td>\n",
       "      <td>Ferit lleu</td>\n",
       "      <td>4582424,87</td>\n",
       "      <td>430448,19</td>\n",
       "    </tr>\n",
       "    <tr>\n",
       "      <td>1</td>\n",
       "      <td>2011S000324</td>\n",
       "      <td>9</td>\n",
       "      <td>Sant Andreu</td>\n",
       "      <td>60</td>\n",
       "      <td>Sant Andreu</td>\n",
       "      <td>170758</td>\n",
       "      <td>Josep Soldevila</td>\n",
       "      <td>0011U0011U</td>\n",
       "      <td>Dilluns</td>\n",
       "      <td>Dl</td>\n",
       "      <td>...</td>\n",
       "      <td>Tarda</td>\n",
       "      <td>20</td>\n",
       "      <td>No és causa del  vianant</td>\n",
       "      <td>Ciclomotor</td>\n",
       "      <td>Home</td>\n",
       "      <td>Conductor</td>\n",
       "      <td>19</td>\n",
       "      <td>Ferit lleu</td>\n",
       "      <td>4586818,15</td>\n",
       "      <td>432911,03</td>\n",
       "    </tr>\n",
       "    <tr>\n",
       "      <td>2</td>\n",
       "      <td>2011S000004</td>\n",
       "      <td>1</td>\n",
       "      <td>Ciutat Vella</td>\n",
       "      <td>2</td>\n",
       "      <td>el Barri Gòtic</td>\n",
       "      <td>74404</td>\n",
       "      <td>Catalunya</td>\n",
       "      <td>0020 0020</td>\n",
       "      <td>Dissabte</td>\n",
       "      <td>Ds</td>\n",
       "      <td>...</td>\n",
       "      <td>Tarda</td>\n",
       "      <td>14</td>\n",
       "      <td>Creuar per fora pas de vianants</td>\n",
       "      <td>Motocicleta</td>\n",
       "      <td>Home</td>\n",
       "      <td>Conductor</td>\n",
       "      <td>26</td>\n",
       "      <td>Ferit lleu</td>\n",
       "      <td>4582153,19</td>\n",
       "      <td>430770,60</td>\n",
       "    </tr>\n",
       "    <tr>\n",
       "      <td>3</td>\n",
       "      <td>2011S000011</td>\n",
       "      <td>9</td>\n",
       "      <td>Sant Andreu</td>\n",
       "      <td>57</td>\n",
       "      <td>la Trinitat Vella</td>\n",
       "      <td>314100</td>\n",
       "      <td>Santa Coloma</td>\n",
       "      <td>0079I0079I</td>\n",
       "      <td>Diumenge</td>\n",
       "      <td>Dg</td>\n",
       "      <td>...</td>\n",
       "      <td>Matí</td>\n",
       "      <td>6</td>\n",
       "      <td>No és causa del  vianant</td>\n",
       "      <td>Turismo</td>\n",
       "      <td>Home</td>\n",
       "      <td>Passatger</td>\n",
       "      <td>22</td>\n",
       "      <td>Ferit lleu</td>\n",
       "      <td>4588967,90</td>\n",
       "      <td>432787,54</td>\n",
       "    </tr>\n",
       "    <tr>\n",
       "      <td>4</td>\n",
       "      <td>2011S000013</td>\n",
       "      <td>2</td>\n",
       "      <td>Eixample</td>\n",
       "      <td>8</td>\n",
       "      <td>l'Antiga Esquerra de l'Eixample</td>\n",
       "      <td>23403</td>\n",
       "      <td>Aribau</td>\n",
       "      <td>0015 0015</td>\n",
       "      <td>Diumenge</td>\n",
       "      <td>Dg</td>\n",
       "      <td>...</td>\n",
       "      <td>Nit</td>\n",
       "      <td>4</td>\n",
       "      <td>No és causa del  vianant</td>\n",
       "      <td>Taxi</td>\n",
       "      <td>Home</td>\n",
       "      <td>Conductor</td>\n",
       "      <td>29</td>\n",
       "      <td>Ferit lleu</td>\n",
       "      <td>4582217,31</td>\n",
       "      <td>429990,57</td>\n",
       "    </tr>\n",
       "  </tbody>\n",
       "</table>\n",
       "<p>5 rows × 25 columns</p>\n",
       "</div>"
      ],
      "text/plain": [
       "  Número d'expedient  Codi districte Nom districte  Codi barri  \\\n",
       "0    2011S000321                   2      Eixample           7   \n",
       "1    2011S000324                   9   Sant Andreu          60   \n",
       "2    2011S000004                   1  Ciutat Vella           2   \n",
       "3    2011S000011                   9   Sant Andreu          57   \n",
       "4    2011S000013                   2      Eixample           8   \n",
       "\n",
       "                         Nom barri  Codi carrer       Nom carrer  \\\n",
       "0           la Dreta de l'Eixample       169409  Corts Catalanes   \n",
       "1                      Sant Andreu       170758  Josep Soldevila   \n",
       "2                   el Barri Gòtic        74404        Catalunya   \n",
       "3                la Trinitat Vella       314100     Santa Coloma   \n",
       "4  l'Antiga Esquerra de l'Eixample        23403           Aribau   \n",
       "\n",
       "  Num postal caption Descripció dia setmana Dia setmana  ... Descripció torn  \\\n",
       "0          9998 9998                Dilluns          Dl  ...           Tarda   \n",
       "1         0011U0011U                Dilluns          Dl  ...           Tarda   \n",
       "2          0020 0020               Dissabte          Ds  ...           Tarda   \n",
       "3         0079I0079I               Diumenge          Dg  ...            Matí   \n",
       "4          0015 0015               Diumenge          Dg  ...             Nit   \n",
       "\n",
       "   Hora de dia         Descripció causa vianant Desc. Tipus vehicle implicat  \\\n",
       "0           21         No és causa del  vianant                  Motocicleta   \n",
       "1           20         No és causa del  vianant                   Ciclomotor   \n",
       "2           14  Creuar per fora pas de vianants                  Motocicleta   \n",
       "3            6         No és causa del  vianant                      Turismo   \n",
       "4            4         No és causa del  vianant                         Taxi   \n",
       "\n",
       "   Descripció sexe Descripció tipus persona  Edat Descripció victimització  \\\n",
       "0             Home                Conductor    33               Ferit lleu   \n",
       "1             Home                Conductor    19               Ferit lleu   \n",
       "2             Home                Conductor    26               Ferit lleu   \n",
       "3             Home                Passatger    22               Ferit lleu   \n",
       "4             Home                Conductor    29               Ferit lleu   \n",
       "\n",
       "  Coordenada UTM (Y) Coordenada UTM (X)  \n",
       "0         4582424,87          430448,19  \n",
       "1         4586818,15          432911,03  \n",
       "2         4582153,19          430770,60  \n",
       "3         4588967,90          432787,54  \n",
       "4         4582217,31          429990,57  \n",
       "\n",
       "[5 rows x 25 columns]"
      ]
     },
     "execution_count": 7,
     "metadata": {},
     "output_type": "execute_result"
    }
   ],
   "source": [
    "#Cargamos el dataframe\n",
    "bcn2011 = pd.read_csv('2011_accidents.csv', encoding = 'unicode_escape')\n",
    "bcn2012 = pd.read_csv('2012_accidents.csv', encoding = 'unicode_escape')\n",
    "bcn2013 = pd.read_csv('2013_accidents.csv', encoding = 'unicode_escape')\n",
    "bcn2014 = pd.read_csv('2014_accidents.csv', encoding = 'unicode_escape')\n",
    "bcn2015 = pd.read_csv('2015_accidents.csv', encoding = 'unicode_escape')\n",
    "bcn2016 = pd.read_csv('2016_accidents.csv', encoding = 'unicode_escape')\n",
    "bcn2011.head()"
   ]
  },
  {
   "cell_type": "code",
   "execution_count": 8,
   "metadata": {
    "scrolled": true
   },
   "outputs": [
    {
     "name": "stdout",
     "output_type": "stream",
     "text": [
      "(10296, 25)\n",
      "(11065, 25)\n",
      "(11376, 25)\n",
      "(11386, 24)\n",
      "(11780, 24)\n",
      "(12072, 28)\n"
     ]
    }
   ],
   "source": [
    "print(bcn2011.shape)\n",
    "print(bcn2012.shape)\n",
    "print(bcn2013.shape)\n",
    "print(bcn2014.shape)\n",
    "print(bcn2015.shape)\n",
    "print(bcn2016.shape)"
   ]
  },
  {
   "cell_type": "code",
   "execution_count": 9,
   "metadata": {},
   "outputs": [],
   "source": [
    "#Los datos totales son unos 50000 por lo que podemos juntarlos en un solo dataframe.\n",
    "#El numero de columnas varía, asi que tenemos que ver cuales son las columnas que varía y comunizarlas"
   ]
  },
  {
   "cell_type": "code",
   "execution_count": 10,
   "metadata": {},
   "outputs": [],
   "source": [
    "# print(bcn2011.columns)\n",
    "# print(bcn2012.columns)\n",
    "# print(bcn2013.columns)\n",
    "# print(bcn2014.columns)\n",
    "# print(bcn2015.columns)\n",
    "# print(bcn2016.columns)"
   ]
  },
  {
   "cell_type": "code",
   "execution_count": 11,
   "metadata": {},
   "outputs": [],
   "source": [
    "#Las columnas añadidas parecen ser 'Lat', 'Long' y 'Descripción situacion'.\n",
    "#Ademas 2014 y 2015 no tienen la columna 'Descripcion turno'\n",
    "#Finalmente nos quedaremos con las siguientes columnas:\n",
    "#Numero de expediente, codigo distrito, nombre distrito, codigo barrio, nombre barrio, codigo calle, nombre calle\n",
    "#descripcion dia de la semana, descripcion tipo dia, año, mes, dia, hora, descripcion causa viandante, tipo vehiculo\n",
    "#Sexo, tipo de persona, edad, descripcion situacion, gravedad (20 columnas)"
   ]
  },
  {
   "cell_type": "code",
   "execution_count": 12,
   "metadata": {},
   "outputs": [],
   "source": [
    "#Borramos las columnas que sobran de todos los data frame:\n",
    "drop_columns = ['Dia setmana', 'Nom mes', 'Num postal caption', 'Coordenada UTM (Y)', 'Coordenada UTM (X)']\n",
    "bcn2011.drop(drop_columns, inplace=True, axis=1)\n",
    "bcn2012.drop(drop_columns, inplace=True, axis=1)\n",
    "bcn2013.drop(drop_columns, inplace=True, axis=1)\n",
    "bcn2014.drop(drop_columns, inplace=True, axis=1)\n",
    "bcn2015.drop(drop_columns, inplace=True, axis=1)\n",
    "bcn2016.drop(drop_columns, inplace=True, axis=1)"
   ]
  },
  {
   "cell_type": "code",
   "execution_count": 13,
   "metadata": {},
   "outputs": [],
   "source": [
    "#Aun tenemos que borrar algunas columnas que no estan en todos los dataframes:\n",
    "drop_columns2 = ['Long', 'Lat']\n",
    "bcn2016.drop(drop_columns2, inplace=True, axis=1)\n",
    "\n",
    "bcn2011.drop(['Descripció torn'], inplace=True, axis=1)\n",
    "bcn2012.drop(['Descripció torn'], inplace=True, axis=1)\n",
    "bcn2013.drop(['Descripció torn'], inplace=True, axis=1)\n",
    "bcn2016.drop(['DescripciÃ³ torn'], inplace=True, axis=1)\n",
    "\n",
    "#Ahora añadimos las columnas que faltan en algunos:\n",
    "bcn2011['Descripción situacion'] = np.nan\n",
    "bcn2012['Descripción situacion'] = np.nan\n",
    "bcn2013['Descripción situacion'] = np.nan\n",
    "bcn2014['Descripción situacion'] = np.nan\n",
    "bcn2015['Descripción situacion'] = np.nan"
   ]
  },
  {
   "cell_type": "code",
   "execution_count": 14,
   "metadata": {},
   "outputs": [
    {
     "name": "stdout",
     "output_type": "stream",
     "text": [
      "(10296, 20)\n",
      "(11065, 20)\n",
      "(11376, 20)\n",
      "(11386, 20)\n",
      "(11780, 20)\n",
      "(12072, 20)\n"
     ]
    }
   ],
   "source": [
    "print(bcn2011.shape)\n",
    "print(bcn2012.shape)\n",
    "print(bcn2013.shape)\n",
    "print(bcn2014.shape)\n",
    "print(bcn2015.shape)\n",
    "print(bcn2016.shape)"
   ]
  },
  {
   "cell_type": "code",
   "execution_count": 15,
   "metadata": {},
   "outputs": [],
   "source": [
    "#Finalmente tenemos todos los dataframes con la misma forma. Comprobamos que el orden es el mismo y renombramos:\n",
    "final_columns = ['Numero_Expediente', 'Codigo_Distrito', 'Nombre_Distrito', 'Codigo_Barrio',\n",
    "       'Nombre_Barrio', 'Codigo_Calle', 'Nombre_Calle', 'Dia_Semana', 'Tipo_Dia', 'Año', 'Mes',\n",
    "        'Dia', 'Hora', 'Motivo_Causa','Tipo_Vehiculo', 'Sexo', 'Edad',\n",
    "       'Tipo_Persona', 'Situacion', 'Gravedad_Victima']"
   ]
  },
  {
   "cell_type": "code",
   "execution_count": 16,
   "metadata": {},
   "outputs": [],
   "source": [
    "bcn2011 = bcn2011[[\"Número d'expedient\", \"Codi districte\", 'Nom districte', 'Codi barri',\n",
    "       'Nom barri', 'Codi carrer', 'Nom carrer', 'Descripció dia setmana',\n",
    "       'Descripció tipus dia', 'NK Any', 'Mes de any', 'Dia de mes',\n",
    "       'Hora de dia', 'Descripció causa vianant',\n",
    "       'Desc. Tipus vehicle implicat', 'Descripció sexe','Edat',\n",
    "       'Descripció tipus persona', 'Descripción situacion', 'Descripció victimització']]\n",
    "\n",
    "bcn2012 = bcn2012[[\"Número d'expedient\", \"Codi districte\", 'Nom districte', 'Codi barri',\n",
    "       'Nom barri', 'Codi carrer', 'Nom carrer', 'Descripció dia setmana',\n",
    "       'Descripció tipus dia', 'NK Any', 'Mes de any', 'Dia de mes',\n",
    "       'Hora de dia', 'Descripció causa vianant',\n",
    "       'Desc. Tipus vehicle implicat', 'Descripció sexe','Edat',\n",
    "       'Descripció tipus persona', 'Descripción situacion', 'Descripció victimització']]\n",
    "\n",
    "bcn2013 = bcn2013[[\"Número d'expedient\", \"Codi districte\", 'Nom districte', 'Codi barri',\n",
    "       'Nom barri', 'Codi carrer', 'Nom carrer', 'Descripció dia setmana',\n",
    "       'Descripció tipus dia', 'NK Any', 'Mes de any', 'Dia de mes',\n",
    "       'Hora de dia', 'Descripció causa vianant',\n",
    "       'Desc. Tipus vehicle implicat', 'Descripció sexe','Edat',\n",
    "       'Descripció tipus persona', 'Descripción situacion', 'Descripció victimització']]\n",
    "\n",
    "bcn2014 = bcn2014[[\"N£mero d'expedient\", 'Codi districte', 'Nom districte', 'Codi barri',\n",
    "       'Nom barri', 'Codi carrer', 'Nom carrer', 'Descripci¢ dia setmana',\n",
    "       'Descripci¢ tipus dia', 'NK Any', 'Mes de any', 'Dia de mes',\n",
    "       'Hora de dia', 'Descripci¢ causa vianant',\n",
    "       'Desc. Tipus vehicle implicat', 'Descripci¢ sexe', 'Edat',\n",
    "       'Descripci¢ tipus persona','Descripción situacion', 'Descripci¢ victimitzaci¢']]\n",
    "\n",
    "bcn2015 = bcn2015[[\"Número d'expedient\", \"Codi districte\", 'Nom districte', 'Codi barri',\n",
    "       'Nom barri', 'Codi carrer', 'Nom carrer', 'Descripció dia setmana',\n",
    "       'Descripció tipus dia', 'NK Any', 'Mes de any', 'Dia de mes',\n",
    "       'Hora de dia', 'Descripció causa vianant',\n",
    "       'Desc. Tipus vehicle implicat', 'Descripció sexe','Edat',\n",
    "       'Descripció tipus persona', 'Descripción situacion', 'Descripció victimització']]\n",
    "\n",
    "#Ahora renombramos las columnas:\n",
    "bcn2011.columns = final_columns\n",
    "bcn2012.columns = final_columns\n",
    "bcn2013.columns = final_columns\n",
    "bcn2014.columns = final_columns\n",
    "bcn2015.columns = final_columns\n",
    "bcn2016.columns = final_columns"
   ]
  },
  {
   "cell_type": "code",
   "execution_count": 17,
   "metadata": {},
   "outputs": [
    {
     "name": "stdout",
     "output_type": "stream",
     "text": [
      "(67975, 20)\n"
     ]
    },
    {
     "data": {
      "text/html": [
       "<div>\n",
       "<style scoped>\n",
       "    .dataframe tbody tr th:only-of-type {\n",
       "        vertical-align: middle;\n",
       "    }\n",
       "\n",
       "    .dataframe tbody tr th {\n",
       "        vertical-align: top;\n",
       "    }\n",
       "\n",
       "    .dataframe thead th {\n",
       "        text-align: right;\n",
       "    }\n",
       "</style>\n",
       "<table border=\"1\" class=\"dataframe\">\n",
       "  <thead>\n",
       "    <tr style=\"text-align: right;\">\n",
       "      <th></th>\n",
       "      <th>Numero_Expediente</th>\n",
       "      <th>Codigo_Distrito</th>\n",
       "      <th>Nombre_Distrito</th>\n",
       "      <th>Codigo_Barrio</th>\n",
       "      <th>Nombre_Barrio</th>\n",
       "      <th>Codigo_Calle</th>\n",
       "      <th>Nombre_Calle</th>\n",
       "      <th>Dia_Semana</th>\n",
       "      <th>Tipo_Dia</th>\n",
       "      <th>Año</th>\n",
       "      <th>Mes</th>\n",
       "      <th>Dia</th>\n",
       "      <th>Hora</th>\n",
       "      <th>Motivo_Causa</th>\n",
       "      <th>Tipo_Vehiculo</th>\n",
       "      <th>Sexo</th>\n",
       "      <th>Edad</th>\n",
       "      <th>Tipo_Persona</th>\n",
       "      <th>Situacion</th>\n",
       "      <th>Gravedad_Victima</th>\n",
       "    </tr>\n",
       "  </thead>\n",
       "  <tbody>\n",
       "    <tr>\n",
       "      <td>0</td>\n",
       "      <td>2011S000321</td>\n",
       "      <td>2</td>\n",
       "      <td>Eixample</td>\n",
       "      <td>7</td>\n",
       "      <td>la Dreta de l'Eixample</td>\n",
       "      <td>169409</td>\n",
       "      <td>Corts Catalanes</td>\n",
       "      <td>Dilluns</td>\n",
       "      <td>Laboral</td>\n",
       "      <td>2011</td>\n",
       "      <td>1</td>\n",
       "      <td>17</td>\n",
       "      <td>21</td>\n",
       "      <td>No és causa del  vianant</td>\n",
       "      <td>Motocicleta</td>\n",
       "      <td>Home</td>\n",
       "      <td>33</td>\n",
       "      <td>Conductor</td>\n",
       "      <td>NaN</td>\n",
       "      <td>Ferit lleu</td>\n",
       "    </tr>\n",
       "    <tr>\n",
       "      <td>1</td>\n",
       "      <td>2011S000324</td>\n",
       "      <td>9</td>\n",
       "      <td>Sant Andreu</td>\n",
       "      <td>60</td>\n",
       "      <td>Sant Andreu</td>\n",
       "      <td>170758</td>\n",
       "      <td>Josep Soldevila</td>\n",
       "      <td>Dilluns</td>\n",
       "      <td>Laboral</td>\n",
       "      <td>2011</td>\n",
       "      <td>1</td>\n",
       "      <td>17</td>\n",
       "      <td>20</td>\n",
       "      <td>No és causa del  vianant</td>\n",
       "      <td>Ciclomotor</td>\n",
       "      <td>Home</td>\n",
       "      <td>19</td>\n",
       "      <td>Conductor</td>\n",
       "      <td>NaN</td>\n",
       "      <td>Ferit lleu</td>\n",
       "    </tr>\n",
       "    <tr>\n",
       "      <td>2</td>\n",
       "      <td>2011S000004</td>\n",
       "      <td>1</td>\n",
       "      <td>Ciutat Vella</td>\n",
       "      <td>2</td>\n",
       "      <td>el Barri Gòtic</td>\n",
       "      <td>74404</td>\n",
       "      <td>Catalunya</td>\n",
       "      <td>Dissabte</td>\n",
       "      <td>Laboral</td>\n",
       "      <td>2011</td>\n",
       "      <td>1</td>\n",
       "      <td>1</td>\n",
       "      <td>14</td>\n",
       "      <td>Creuar per fora pas de vianants</td>\n",
       "      <td>Motocicleta</td>\n",
       "      <td>Home</td>\n",
       "      <td>26</td>\n",
       "      <td>Conductor</td>\n",
       "      <td>NaN</td>\n",
       "      <td>Ferit lleu</td>\n",
       "    </tr>\n",
       "    <tr>\n",
       "      <td>3</td>\n",
       "      <td>2011S000011</td>\n",
       "      <td>9</td>\n",
       "      <td>Sant Andreu</td>\n",
       "      <td>57</td>\n",
       "      <td>la Trinitat Vella</td>\n",
       "      <td>314100</td>\n",
       "      <td>Santa Coloma</td>\n",
       "      <td>Diumenge</td>\n",
       "      <td>Laboral</td>\n",
       "      <td>2011</td>\n",
       "      <td>1</td>\n",
       "      <td>2</td>\n",
       "      <td>6</td>\n",
       "      <td>No és causa del  vianant</td>\n",
       "      <td>Turismo</td>\n",
       "      <td>Home</td>\n",
       "      <td>22</td>\n",
       "      <td>Passatger</td>\n",
       "      <td>NaN</td>\n",
       "      <td>Ferit lleu</td>\n",
       "    </tr>\n",
       "    <tr>\n",
       "      <td>4</td>\n",
       "      <td>2011S000013</td>\n",
       "      <td>2</td>\n",
       "      <td>Eixample</td>\n",
       "      <td>8</td>\n",
       "      <td>l'Antiga Esquerra de l'Eixample</td>\n",
       "      <td>23403</td>\n",
       "      <td>Aribau</td>\n",
       "      <td>Diumenge</td>\n",
       "      <td>Laboral</td>\n",
       "      <td>2011</td>\n",
       "      <td>1</td>\n",
       "      <td>2</td>\n",
       "      <td>4</td>\n",
       "      <td>No és causa del  vianant</td>\n",
       "      <td>Taxi</td>\n",
       "      <td>Home</td>\n",
       "      <td>29</td>\n",
       "      <td>Conductor</td>\n",
       "      <td>NaN</td>\n",
       "      <td>Ferit lleu</td>\n",
       "    </tr>\n",
       "  </tbody>\n",
       "</table>\n",
       "</div>"
      ],
      "text/plain": [
       "  Numero_Expediente Codigo_Distrito Nombre_Distrito Codigo_Barrio  \\\n",
       "0   2011S000321                   2        Eixample             7   \n",
       "1   2011S000324                   9     Sant Andreu            60   \n",
       "2   2011S000004                   1    Ciutat Vella             2   \n",
       "3   2011S000011                   9     Sant Andreu            57   \n",
       "4   2011S000013                   2        Eixample             8   \n",
       "\n",
       "                     Nombre_Barrio Codigo_Calle     Nombre_Calle Dia_Semana  \\\n",
       "0           la Dreta de l'Eixample       169409  Corts Catalanes    Dilluns   \n",
       "1                      Sant Andreu       170758  Josep Soldevila    Dilluns   \n",
       "2                   el Barri Gòtic        74404        Catalunya   Dissabte   \n",
       "3                la Trinitat Vella       314100     Santa Coloma   Diumenge   \n",
       "4  l'Antiga Esquerra de l'Eixample        23403           Aribau   Diumenge   \n",
       "\n",
       "  Tipo_Dia   Año  Mes  Dia  Hora                     Motivo_Causa  \\\n",
       "0  Laboral  2011    1   17    21         No és causa del  vianant   \n",
       "1  Laboral  2011    1   17    20         No és causa del  vianant   \n",
       "2  Laboral  2011    1    1    14  Creuar per fora pas de vianants   \n",
       "3  Laboral  2011    1    2     6         No és causa del  vianant   \n",
       "4  Laboral  2011    1    2     4         No és causa del  vianant   \n",
       "\n",
       "  Tipo_Vehiculo  Sexo Edad Tipo_Persona Situacion Gravedad_Victima  \n",
       "0   Motocicleta  Home   33    Conductor       NaN       Ferit lleu  \n",
       "1    Ciclomotor  Home   19    Conductor       NaN       Ferit lleu  \n",
       "2   Motocicleta  Home   26    Conductor       NaN       Ferit lleu  \n",
       "3       Turismo  Home   22    Passatger       NaN       Ferit lleu  \n",
       "4          Taxi  Home   29    Conductor       NaN       Ferit lleu  "
      ]
     },
     "execution_count": 17,
     "metadata": {},
     "output_type": "execute_result"
    }
   ],
   "source": [
    "#Y por ultimo, concatenamos todos los dataframes en uno solo:\n",
    "bcn = pd.concat([bcn2011, bcn2012, bcn2013, bcn2014, bcn2015, bcn2016], ignore_index=True, sort =False)\n",
    "print(bcn.shape)\n",
    "bcn.head()"
   ]
  },
  {
   "cell_type": "code",
   "execution_count": 18,
   "metadata": {},
   "outputs": [
    {
     "name": "stdout",
     "output_type": "stream",
     "text": [
      "['Eixample' 'Sant Andreu' 'Ciutat Vella' 'Sants-Montjuïc' 'Les Corts'\n",
      " 'Sarrià-Sant Gervasi' 'Sant Martí' 'Nou Barris' 'Gràcia' 'Horta-Guinardó'\n",
      " 'Desconegut' 'Horta-Guinard¢' 'Sant Mart¡' 'Gr\\x85cia'\n",
      " 'Sarri\\x85-Sant Gervasi' 'Sants-Montju\\x8bc' 'SarriÃ\\xa0-Sant Gervasi'\n",
      " 'Sants-MontjuÃ¯c' 'Horta-GuinardÃ³' 'GrÃ\\xa0cia' 'Sant MartÃ\\xad']\n",
      "[\"la Dreta de l'Eixample\" 'Sant Andreu' 'el Barri Gòtic'\n",
      " 'la Trinitat Vella' \"l'Antiga Esquerra de l'Eixample\" 'la Marina de Port'\n",
      " 'la Sagrada Família' 'les Corts' 'Sant Gervasi - Galvany' 'el Fort Pienc'\n",
      " 'Diagonal Mar i el Front Marítim del Poblenou' 'el Bon Pastor' 'el Clot'\n",
      " 'Verdun' \"el Camp d'en Grassot i Gràcia Nova\" 'Sant Antoni'\n",
      " 'la Marina del Prat Vermell' 'les Tres Torres' 'Sant Genís dels Agudells'\n",
      " \"la Nova Esquerra de l'Eixample\" 'Provençals del Poblenou' 'la Salut'\n",
      " 'la Vila Olímpica del Poblenou' 'el Baix Guinardó' 'el Putxet i el Farró'\n",
      " 'Pedralbes' \"la Vall d'Hebron\" 'la Guineueta' 'Canyelles'\n",
      " 'la Vila de Gràcia' 'Sarrià' 'Vallbona' 'la Maternitat i Sant Ramon'\n",
      " 'el Raval' 'Sant Gervasi - la Bonanova' 'el Coll'\n",
      " 'Vallcarca i els Penitents' 'el Turó de la Peira'\n",
      " 'Vallvidrera, el Tibidabo i les Planes' 'la Font de la Guatlla'\n",
      " 'el Poble Sec' 'la Verneda i la Pau' 'Sant Martí de Provençals'\n",
      " 'la Sagrera' 'la Bordeta' 'Sants - Badal' 'Navas' 'Porta'\n",
      " 'la Barceloneta' 'Sants' 'el Congrés i els Indians'\n",
      " 'Sant Pere, Santa Caterina i la Ribera'\n",
      " 'el Parc i la Llacuna del Poblenou' \"el Camp de l'Arpa del Clot\"\n",
      " 'Can Peguera' 'Horta' 'Baró de Viver' 'el Poblenou' 'Hostafrancs'\n",
      " 'la Teixonera' 'la Prosperitat' 'el Besòs i el Maresme' 'el Guinardó'\n",
      " 'Vilapicina i la Torre Llobeta' \"la Font d'en Fargues\" 'les Roquetes'\n",
      " 'la Trinitat Nova' 'Torre Baró' 'el Carmel' 'Montbau' 'la Clota'\n",
      " 'Ciutat Meridiana' 'Desconegut' 'Can Baró' 'la Sagrada Fam¡lia'\n",
      " 'la Vila de Gr\\x85cia' 'Proven\\x87als del Poblenou' 'Bar¢ de Viver'\n",
      " 'Sant Mart¡ de Proven\\x87als' 'Sarri\\x85'\n",
      " \"el Camp d'en Grassot i Gr\\x85cia Nova\"\n",
      " 'Diagonal Mar i el Front Mar¡tim del Poblenou' 'el Guinard¢'\n",
      " 'Sant Gen¡s dels Agudells' 'el Baix Guinard¢' 'el Putxet i el Farr¢'\n",
      " 'el Bes\\x95s i el Maresme' 'la Vila Ol¡mpica del Poblenou'\n",
      " 'el Barri G\\x95tic' 'Can Bar¢' 'el Tur¢ de la Peira'\n",
      " 'el Congr\\x82s i els Indians' 'Torre Bar¢' 'SarriÃ\\xa0'\n",
      " 'Sant GenÃ\\xads dels Agudells' 'el Putxet i el FarrÃ³'\n",
      " 'la Vila de GrÃ\\xa0cia' 'Can BarÃ³'\n",
      " \"el Camp d'en Grassot i GrÃ\\xa0cia Nova\" 'el Baix GuinardÃ³'\n",
      " 'el TurÃ³ de la Peira' 'el GuinardÃ³' 'la Sagrada FamÃ\\xadlia'\n",
      " 'el Barri GÃ²tic' 'Torre BarÃ³' 'el CongrÃ©s i els Indians'\n",
      " 'la Vila OlÃ\\xadmpica del Poblenou' 'ProvenÃ§als del Poblenou'\n",
      " 'Sant MartÃ\\xad de ProvenÃ§als' 'BarÃ³ de Viver'\n",
      " 'Diagonal Mar i el Front MarÃ\\xadtim del Poblenou'\n",
      " 'el BesÃ²s i el Maresme']\n",
      "['Dilluns' 'Dissabte' 'Diumenge' 'Dimecres' 'Divendres' 'Dimarts' 'Dijous']\n",
      "['Motocicleta' 'Ciclomotor' 'Turismo' 'Taxi' 'Autobús' 'Furgoneta'\n",
      " 'Bicicleta' 'Camión > 3,5 Tm' 'Camión <= 3,5 Tm' 'Tractocamión'\n",
      " 'Autobús articulado' 'Todo terreno' 'Otros vehíc. a motor'\n",
      " 'Tranvía o tren' 'Autocar' 'Microbus <=17 plazas' 'Cuadriciclo >=75cc'\n",
      " 'Maquinaria de obras' 'Cuadriciclo <75cc' 'Autob£s'\n",
      " 'Otros veh¡c. a motor' 'Cami¢n <= 3,5 Tm' 'Autob£s articulado'\n",
      " 'Cami¢n > 3,5 Tm' 'Tranv¡a o tren' 'Tractocami¢n' 'AutobÃºs'\n",
      " 'TranvÃ\\xada o tren' 'TractocamiÃ³n' 'Otros vehÃ\\xadc. a motor'\n",
      " 'CamiÃ³n > 3,5 Tm' 'CamiÃ³n <= 3,5 Tm' 'AutobÃºs articulado']\n",
      "['Conductor' 'Passatger' 'Vianant']\n",
      "['Ferit lleu' 'Ferit greu' 'Mort']\n"
     ]
    }
   ],
   "source": [
    "#Comprobamos que no hay fallos viendo los valores unicos de algunas columnas categoricas:\n",
    "cat_columns = ['Nombre_Distrito', 'Nombre_Barrio', 'Dia_Semana', 'Tipo_Vehiculo', 'Tipo_Persona', 'Gravedad_Victima']\n",
    "for column in cat_columns:\n",
    "    print(bcn[column].unique())"
   ]
  },
  {
   "cell_type": "code",
   "execution_count": 19,
   "metadata": {},
   "outputs": [],
   "source": [
    "#No parece haber problemas aunque hay muchos nombres con erratas.\n",
    "#Corregimos las erratas a medida que vayan saliendo en la fase de analisis:\n",
    "\n",
    "#Corregimos errores en nombre de distrito:\n",
    "bcn.loc[bcn['Nombre_Distrito'].str.startswith('Horta'), 'Nombre_Distrito'] = 'Horta-Guinardo'\n",
    "bcn.loc[bcn['Nombre_Distrito'].str.startswith('Gr'), 'Nombre_Distrito'] = 'Gracia'\n",
    "bcn.loc[bcn['Nombre_Distrito'].str.startswith('Sant M'), 'Nombre_Distrito'] = 'Sant Marti'\n",
    "bcn.loc[bcn['Nombre_Distrito'].str.startswith('Sarri'), 'Nombre_Distrito'] = 'Sarria-Sant Gervasi'\n",
    "bcn.loc[bcn['Nombre_Distrito'].str.startswith('Sants'), 'Nombre_Distrito'] = 'Sants-Montjuic'\n",
    "\n",
    "#Corregimos errores en nombre de barrio:\n",
    "bcn.loc[bcn['Nombre_Barrio'].str.startswith('Bar'), 'Nombre_Barrio'] = 'Baro de Viver'\n",
    "bcn.loc[bcn['Nombre_Barrio'].str.startswith('Can B'), 'Nombre_Barrio'] = 'Can Baro'\n",
    "bcn.loc[bcn['Nombre_Barrio'].str.startswith('Diagonal Mar i'), 'Nombre_Barrio'] = 'Diagonal Mar i el Front Marítim del Poblenou'\n",
    "bcn.loc[bcn['Nombre_Barrio'].str.startswith('Proven'), 'Nombre_Barrio'] = 'Provençals del Poblenou'\n",
    "bcn.loc[bcn['Nombre_Barrio'].str.startswith('Sant Gen'), 'Nombre_Barrio'] = 'Sant Genís dels Agudells'\n",
    "bcn.loc[bcn['Nombre_Barrio'].str.startswith('Sant Mart'), 'Nombre_Barrio'] = 'Sant Martí de Provençals'\n",
    "bcn.loc[bcn['Nombre_Barrio'].str.startswith('Sarri'), 'Nombre_Barrio'] = 'Sarria'\n",
    "bcn.loc[bcn['Nombre_Barrio'].str.startswith('Torre Bar'), 'Nombre_Barrio'] = 'Torre Baro'\n",
    "bcn.loc[bcn['Nombre_Barrio'].str.startswith('el Baix'), 'Nombre_Barrio'] = 'el Baix Guinardó'\n",
    "bcn.loc[bcn['Nombre_Barrio'].str.startswith('el Bes'), 'Nombre_Barrio'] = 'el Besòs i el Maresme'\n",
    "bcn.loc[bcn['Nombre_Barrio'].str.startswith(\"el Camp d'en\"), 'Nombre_Barrio'] = \"el Camp d'en Grassot i Gràcia Nova\"\n",
    "bcn.loc[bcn['Nombre_Barrio'].str.startswith('el Congr'), 'Nombre_Barrio'] = 'el Congrés i els Indians'\n",
    "bcn.loc[bcn['Nombre_Barrio'].str.startswith('el Guinar'), 'Nombre_Barrio'] = 'el Guinardó'\n",
    "bcn.loc[bcn['Nombre_Barrio'].str.startswith('el Putxet i'), 'Nombre_Barrio'] = 'el Putxet i el Farró'\n",
    "bcn.loc[bcn['Nombre_Barrio'].str.startswith('el Tur'), 'Nombre_Barrio'] = 'el Turó de la Peira'\n",
    "bcn.loc[bcn['Nombre_Barrio'].str.startswith('la Sagrada'), 'Nombre_Barrio'] = 'la Sagrada Família'\n",
    "bcn.loc[bcn['Nombre_Barrio'].str.startswith('la Vila Ol'), 'Nombre_Barrio'] = 'la Vila Olímpica del Poblenou'\n",
    "bcn.loc[bcn['Nombre_Barrio'].str.startswith('la Vila de G'), 'Nombre_Barrio'] = 'la Vila de Gràcia'\n",
    "bcn.loc[bcn['Nombre_Barrio'].str.startswith('el Barri G'), 'Nombre_Barrio'] = 'el Barri Gotic'\n",
    "\n",
    "#Corregimos errores en nombre el tipo de causa:\n",
    "bcn.loc[bcn['Motivo_Causa'].str.startswith('No'), 'Motivo_Causa'] = 'No és causa del  vianant'\n",
    "bcn.loc[bcn['Motivo_Causa'].str.startswith('Transitar'), 'Motivo_Causa'] = 'Transitar a peu per la calçada'\n",
    "bcn.loc[bcn['Motivo_Causa'].str.startswith('Desobeir el'), 'Motivo_Causa'] = 'Desobeir el senyal del semàfor'"
   ]
  },
  {
   "cell_type": "code",
   "execution_count": 20,
   "metadata": {
    "scrolled": true
   },
   "outputs": [
    {
     "name": "stdout",
     "output_type": "stream",
     "text": [
      "<class 'pandas.core.frame.DataFrame'>\n",
      "RangeIndex: 67975 entries, 0 to 67974\n",
      "Data columns (total 20 columns):\n",
      "Numero_Expediente    67975 non-null object\n",
      "Codigo_Distrito      67975 non-null object\n",
      "Nombre_Distrito      67975 non-null object\n",
      "Codigo_Barrio        67975 non-null object\n",
      "Nombre_Barrio        67975 non-null object\n",
      "Codigo_Calle         67975 non-null object\n",
      "Nombre_Calle         67975 non-null object\n",
      "Dia_Semana           67975 non-null object\n",
      "Tipo_Dia             67975 non-null object\n",
      "Año                  67975 non-null int64\n",
      "Mes                  67975 non-null int64\n",
      "Dia                  67975 non-null int64\n",
      "Hora                 67975 non-null int64\n",
      "Motivo_Causa         67975 non-null object\n",
      "Tipo_Vehiculo        67975 non-null object\n",
      "Sexo                 67975 non-null object\n",
      "Edad                 67975 non-null object\n",
      "Tipo_Persona         67975 non-null object\n",
      "Situacion            12072 non-null object\n",
      "Gravedad_Victima     67975 non-null object\n",
      "dtypes: int64(4), object(16)\n",
      "memory usage: 10.4+ MB\n"
     ]
    }
   ],
   "source": [
    "#Ahora analizamos el contenido del dataframe:\n",
    "\n",
    "#Verificamos valores nulos y los tipos de columnas:\n",
    "bcn.info()"
   ]
  },
  {
   "cell_type": "code",
   "execution_count": 21,
   "metadata": {
    "scrolled": false
   },
   "outputs": [
    {
     "data": {
      "text/plain": [
       "array(['33', '19', '26', '22', '29', '47', '32', '27', '52', '48', '69',\n",
       "       '31', '60', '25', '63', '30', '20', '65', '46', '38', '55', '16',\n",
       "       '74', '70', '57', '23', '43', '64', '39', '49', '58', '40', '45',\n",
       "       '53', '21', '76', '35', '50', 'Desconegut', '34', '78', '28', '36',\n",
       "       '24', '81', '41', '66', '68', '54', '37', '44', '18', '17', '14',\n",
       "       '62', '82', '61', '80', '84', '77', '0', '12', '87', '1', '56',\n",
       "       '5', '75', '79', '9', '42', '85', '8', '71', '51', '6', '59', '11',\n",
       "       '10', '90', '13', '89', '15', '86', '4', '7', '67', '3', '72', '2',\n",
       "       '83', '91', '96', '88', '73', '92', '93', '94', '97', '95', '106',\n",
       "       '101', '119'], dtype=object)"
      ]
     },
     "execution_count": 21,
     "metadata": {},
     "output_type": "execute_result"
    }
   ],
   "source": [
    "#Solo situacion tiene valores nulos ya que se empezó a registrar solo en el año 2016.\n",
    "#Mantenemos esos valores así ya que, al ser una variable categorica no nos afectará al analisis.\n",
    "\n",
    "#Sorprende que la variable edad no sea un integer, la analizamos más en profundidad:\n",
    "bcn.Edad.unique()\n"
   ]
  },
  {
   "cell_type": "code",
   "execution_count": 22,
   "metadata": {},
   "outputs": [
    {
     "data": {
      "text/plain": [
       "(649, 20)"
      ]
     },
     "execution_count": 22,
     "metadata": {},
     "output_type": "execute_result"
    }
   ],
   "source": [
    "bcn[bcn.Edad=='Desconegut'].shape"
   ]
  },
  {
   "cell_type": "code",
   "execution_count": 23,
   "metadata": {},
   "outputs": [],
   "source": [
    "#Hay 649 casos donde no se conoce la edad. Eso representa menos de un 1% del total.\n",
    "#Para convertir la variable en numerica (sin borrar esas filas) tenemos que darle un valor a Desconegut.\n",
    "#No podemos darle valor 0 porque ya casos con valor 0 (probablemente algun bebe involucrado en un accidente)\n",
    "#Les daremos valor -1000 que, al ser negativo y alto no podremos hacer calculos incluyendolo por error.\n",
    "bcn.loc[bcn.Edad == 'Desconegut', 'Edad'] = -1000\n",
    "#Ahora lo cambiamos a numerico:\n",
    "bcn[\"Edad\"] = pd.to_numeric(bcn[\"Edad\"])\n"
   ]
  },
  {
   "cell_type": "code",
   "execution_count": 24,
   "metadata": {},
   "outputs": [
    {
     "name": "stdout",
     "output_type": "stream",
     "text": [
      "['Laboral']\n"
     ]
    }
   ],
   "source": [
    "#Ahora revisamos las posibilidades de algunas variables categoricas:\n",
    "print(bcn.Tipo_Dia.unique())"
   ]
  },
  {
   "cell_type": "code",
   "execution_count": 25,
   "metadata": {},
   "outputs": [],
   "source": [
    "#Solo hay un tipo de entrada aqui, por lo que podemos borrar esta columna:\n",
    "bcn.drop('Tipo_Dia', inplace=True, axis=1)"
   ]
  },
  {
   "cell_type": "code",
   "execution_count": 26,
   "metadata": {
    "scrolled": true
   },
   "outputs": [
    {
     "name": "stdout",
     "output_type": "stream",
     "text": [
      "['No és causa del  vianant' 'Creuar per fora pas de vianants' 'Altres'\n",
      " 'Desobeir el senyal del semàfor' 'Transitar a peu per la calçada'\n",
      " 'Desobeir altres senyals']\n"
     ]
    }
   ],
   "source": [
    "print(bcn.Motivo_Causa.unique())"
   ]
  },
  {
   "cell_type": "code",
   "execution_count": 27,
   "metadata": {
    "scrolled": true
   },
   "outputs": [
    {
     "name": "stdout",
     "output_type": "stream",
     "text": [
      "['Motocicleta' 'Ciclomotor' 'Turismo' 'Taxi' 'Autobús' 'Furgoneta'\n",
      " 'Bicicleta' 'Camión > 3,5 Tm' 'Camión <= 3,5 Tm' 'Tractocamión'\n",
      " 'Autobús articulado' 'Todo terreno' 'Otros vehíc. a motor'\n",
      " 'Tranvía o tren' 'Autocar' 'Microbus <=17 plazas' 'Cuadriciclo >=75cc'\n",
      " 'Maquinaria de obras' 'Cuadriciclo <75cc' 'Autob£s'\n",
      " 'Otros veh¡c. a motor' 'Cami¢n <= 3,5 Tm' 'Autob£s articulado'\n",
      " 'Cami¢n > 3,5 Tm' 'Tranv¡a o tren' 'Tractocami¢n' 'AutobÃºs'\n",
      " 'TranvÃ\\xada o tren' 'TractocamiÃ³n' 'Otros vehÃ\\xadc. a motor'\n",
      " 'CamiÃ³n > 3,5 Tm' 'CamiÃ³n <= 3,5 Tm' 'AutobÃºs articulado']\n"
     ]
    }
   ],
   "source": [
    "print(bcn.Tipo_Vehiculo.unique())"
   ]
  },
  {
   "cell_type": "code",
   "execution_count": 28,
   "metadata": {},
   "outputs": [],
   "source": [
    "#Exiten muchos tipos y erratas, aprovechamos para reducir la lista unificando vehiculos y corrigiendo erratas:\n",
    "bcn.loc[bcn['Tipo_Vehiculo'].str.startswith(\"Autob\"), 'Tipo_Vehiculo'] = \"Autobús\"\n",
    "bcn.loc[bcn['Tipo_Vehiculo'].str.startswith(\"Autocar\"), 'Tipo_Vehiculo'] = \"Autobús\"\n",
    "bcn.loc[bcn['Tipo_Vehiculo'].str.startswith(\"Micro\"), 'Tipo_Vehiculo'] = \"Autobús\"\n",
    "bcn.loc[bcn['Tipo_Vehiculo'].str.startswith(\"Cami\"), 'Tipo_Vehiculo'] = \"Camión\"\n",
    "bcn.loc[bcn['Tipo_Vehiculo'].str.startswith(\"Tracto\"), 'Tipo_Vehiculo'] = \"Camión\"\n",
    "bcn.loc[bcn['Tipo_Vehiculo'].str.startswith(\"Tranv\"), 'Tipo_Vehiculo'] = \"Tranvía o tren\"\n",
    "bcn.loc[bcn['Tipo_Vehiculo'].str.startswith(\"Todo terreno\"), 'Tipo_Vehiculo'] = \"Turismo\"\n",
    "bcn.loc[bcn['Tipo_Vehiculo'].str.startswith(\"Cuadric\"), 'Tipo_Vehiculo'] = \"Motocicleta\"\n",
    "bcn.loc[bcn['Tipo_Vehiculo'].str.startswith(\"Otros\"), 'Tipo_Vehiculo'] = \"Otros vehíc. a motor\""
   ]
  },
  {
   "cell_type": "code",
   "execution_count": 29,
   "metadata": {
    "scrolled": true
   },
   "outputs": [
    {
     "name": "stdout",
     "output_type": "stream",
     "text": [
      "['Motocicleta' 'Ciclomotor' 'Turismo' 'Taxi' 'Autobús' 'Furgoneta'\n",
      " 'Bicicleta' 'Camión' 'Otros vehíc. a motor' 'Tranvía o tren'\n",
      " 'Maquinaria de obras']\n"
     ]
    }
   ],
   "source": [
    "print(bcn.Tipo_Vehiculo.unique())\n",
    "#Ahora hemos reducido los tipos a algo más parecido al dataframe de parque movil que veremos a continuacion."
   ]
  },
  {
   "cell_type": "code",
   "execution_count": 30,
   "metadata": {},
   "outputs": [
    {
     "name": "stdout",
     "output_type": "stream",
     "text": [
      "['Conductor' 'Passatger' 'Vianant']\n",
      "[nan 'Presentado' 'Desconegut' 'Otros']\n",
      "['Ferit lleu' 'Ferit greu' 'Mort']\n"
     ]
    }
   ],
   "source": [
    "print(bcn.Tipo_Persona.unique())\n",
    "print(bcn.Situacion.unique())\n",
    "print(bcn.Gravedad_Victima.unique())"
   ]
  },
  {
   "cell_type": "code",
   "execution_count": 31,
   "metadata": {},
   "outputs": [],
   "source": [
    "#Estas tres categorias tienen valores normales (excepto los nan que ya hemos comentado)"
   ]
  },
  {
   "cell_type": "code",
   "execution_count": 32,
   "metadata": {},
   "outputs": [],
   "source": [
    "#Exportamos el dataframe como csv:\n",
    "bcn.to_csv('bcn.csv', sep='\\t', index = False)"
   ]
  },
  {
   "cell_type": "markdown",
   "metadata": {},
   "source": [
    "Ahora creamos un data frame con los datos del parque automovilistico.\n",
    "Sacamos los datos de: https://www.idescat.cat/pub/?id=aec&n=589&lang=es&t=2016"
   ]
  },
  {
   "cell_type": "code",
   "execution_count": 33,
   "metadata": {},
   "outputs": [
    {
     "data": {
      "text/html": [
       "<div>\n",
       "<style scoped>\n",
       "    .dataframe tbody tr th:only-of-type {\n",
       "        vertical-align: middle;\n",
       "    }\n",
       "\n",
       "    .dataframe tbody tr th {\n",
       "        vertical-align: top;\n",
       "    }\n",
       "\n",
       "    .dataframe thead th {\n",
       "        text-align: right;\n",
       "    }\n",
       "</style>\n",
       "<table border=\"1\" class=\"dataframe\">\n",
       "  <thead>\n",
       "    <tr style=\"text-align: right;\">\n",
       "      <th></th>\n",
       "      <th>Año</th>\n",
       "      <th>Turismos</th>\n",
       "      <th>Autobuses</th>\n",
       "      <th>Motocicletas</th>\n",
       "      <th>Camiones</th>\n",
       "      <th>Tractores industriales</th>\n",
       "      <th>Ciclomotores</th>\n",
       "      <th>Otros</th>\n",
       "      <th>Total</th>\n",
       "    </tr>\n",
       "  </thead>\n",
       "  <tbody>\n",
       "    <tr>\n",
       "      <td>0</td>\n",
       "      <td>2011</td>\n",
       "      <td>2402574</td>\n",
       "      <td>6111</td>\n",
       "      <td>523361</td>\n",
       "      <td>513009</td>\n",
       "      <td>15490</td>\n",
       "      <td>209763</td>\n",
       "      <td>97125</td>\n",
       "      <td>3767433</td>\n",
       "    </tr>\n",
       "    <tr>\n",
       "      <td>1</td>\n",
       "      <td>2012</td>\n",
       "      <td>2393017</td>\n",
       "      <td>5965</td>\n",
       "      <td>531934</td>\n",
       "      <td>504822</td>\n",
       "      <td>14692</td>\n",
       "      <td>202007</td>\n",
       "      <td>95333</td>\n",
       "      <td>3747770</td>\n",
       "    </tr>\n",
       "    <tr>\n",
       "      <td>2</td>\n",
       "      <td>2013</td>\n",
       "      <td>2366511</td>\n",
       "      <td>5879</td>\n",
       "      <td>538926</td>\n",
       "      <td>493579</td>\n",
       "      <td>14092</td>\n",
       "      <td>193473</td>\n",
       "      <td>92739</td>\n",
       "      <td>3705199</td>\n",
       "    </tr>\n",
       "    <tr>\n",
       "      <td>3</td>\n",
       "      <td>2014</td>\n",
       "      <td>2347766</td>\n",
       "      <td>5902</td>\n",
       "      <td>551787</td>\n",
       "      <td>484340</td>\n",
       "      <td>14046</td>\n",
       "      <td>186888</td>\n",
       "      <td>92008</td>\n",
       "      <td>3682737</td>\n",
       "    </tr>\n",
       "    <tr>\n",
       "      <td>4</td>\n",
       "      <td>2015</td>\n",
       "      <td>2385649</td>\n",
       "      <td>5971</td>\n",
       "      <td>571878</td>\n",
       "      <td>488554</td>\n",
       "      <td>14535</td>\n",
       "      <td>181630</td>\n",
       "      <td>91445</td>\n",
       "      <td>3739662</td>\n",
       "    </tr>\n",
       "    <tr>\n",
       "      <td>5</td>\n",
       "      <td>2016</td>\n",
       "      <td>2437180</td>\n",
       "      <td>6086</td>\n",
       "      <td>598837</td>\n",
       "      <td>493881</td>\n",
       "      <td>15250</td>\n",
       "      <td>177451</td>\n",
       "      <td>93240</td>\n",
       "      <td>3821925</td>\n",
       "    </tr>\n",
       "  </tbody>\n",
       "</table>\n",
       "</div>"
      ],
      "text/plain": [
       "    Año Turismos Autobuses Motocicletas Camiones Tractores industriales  \\\n",
       "0  2011  2402574      6111       523361   513009                  15490   \n",
       "1  2012  2393017      5965       531934   504822                  14692   \n",
       "2  2013  2366511      5879       538926   493579                  14092   \n",
       "3  2014  2347766      5902       551787   484340                  14046   \n",
       "4  2015  2385649      5971       571878   488554                  14535   \n",
       "5  2016  2437180      6086       598837   493881                  15250   \n",
       "\n",
       "  Ciclomotores  Otros    Total  \n",
       "0       209763  97125  3767433  \n",
       "1       202007  95333  3747770  \n",
       "2       193473  92739  3705199  \n",
       "3       186888  92008  3682737  \n",
       "4       181630  91445  3739662  \n",
       "5       177451  93240  3821925  "
      ]
     },
     "execution_count": 33,
     "metadata": {},
     "output_type": "execute_result"
    }
   ],
   "source": [
    "columns = ['Año','Turismos','Autobuses','Motocicletas','Camiones','Tractores industriales','Ciclomotores','Otros', 'Total']\n",
    "parque_BCN = pd.DataFrame(columns=columns)\n",
    "\n",
    "#Añadimos los datos de los 6 años analizados:\n",
    "parque_BCN.loc[0] = [2011, 2402574, 6111, 523361, 513009, 15490, 209763, 97125, 3767433]\n",
    "parque_BCN.loc[1] = [2012, 2393017, 5965, 531934, 504822, 14692, 202007, 95333, 3747770]\n",
    "parque_BCN.loc[2] = [2013, 2366511, 5879, 538926, 493579, 14092, 193473, 92739, 3705199]\n",
    "parque_BCN.loc[3] = [2014, 2347766, 5902, 551787, 484340, 14046, 186888, 92008, 3682737]\n",
    "parque_BCN.loc[4] = [2015, 2385649, 5971, 571878, 488554, 14535, 181630, 91445, 3739662]\n",
    "parque_BCN.loc[5] = [2016, 2437180, 6086, 598837, 493881, 15250, 177451, 93240, 3821925]\n",
    "\n",
    "parque_BCN"
   ]
  },
  {
   "cell_type": "code",
   "execution_count": 34,
   "metadata": {},
   "outputs": [],
   "source": [
    "#Exportamos el dataframe como csv:\n",
    "parque_BCN.to_csv('parque_BCN.csv', sep='\\t', index = False)"
   ]
  }
 ],
 "metadata": {
  "kernelspec": {
   "display_name": "Python 3",
   "language": "python",
   "name": "python3"
  },
  "language_info": {
   "codemirror_mode": {
    "name": "ipython",
    "version": 3
   },
   "file_extension": ".py",
   "mimetype": "text/x-python",
   "name": "python",
   "nbconvert_exporter": "python",
   "pygments_lexer": "ipython3",
   "version": "3.6.8"
  }
 },
 "nbformat": 4,
 "nbformat_minor": 2
}
