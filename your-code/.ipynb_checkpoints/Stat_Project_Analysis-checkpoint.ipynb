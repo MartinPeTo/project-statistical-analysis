{
 "cells": [
  {
   "cell_type": "code",
   "execution_count": 1,
   "metadata": {
    "scrolled": true
   },
   "outputs": [
    {
     "data": {
      "text/html": [
       "        <script type=\"text/javascript\">\n",
       "        window.PlotlyConfig = {MathJaxConfig: 'local'};\n",
       "        if (window.MathJax) {MathJax.Hub.Config({SVG: {font: \"STIX-Web\"}});}\n",
       "        if (typeof require !== 'undefined') {\n",
       "        require.undef(\"plotly\");\n",
       "        requirejs.config({\n",
       "            paths: {\n",
       "                'plotly': ['https://cdn.plot.ly/plotly-latest.min']\n",
       "            }\n",
       "        });\n",
       "        require(['plotly'], function(Plotly) {\n",
       "            window._Plotly = Plotly;\n",
       "        });\n",
       "        }\n",
       "        </script>\n",
       "        "
      ]
     },
     "metadata": {},
     "output_type": "display_data"
    },
    {
     "name": "stderr",
     "output_type": "stream",
     "text": [
      "/home/martin/.local/lib/python3.6/site-packages/IPython/core/interactiveshell.py:3058: DtypeWarning:\n",
      "\n",
      "Columns (1,3,5,17) have mixed types. Specify dtype option on import or set low_memory=False.\n",
      "\n"
     ]
    },
    {
     "data": {
      "text/html": [
       "<div>\n",
       "<style scoped>\n",
       "    .dataframe tbody tr th:only-of-type {\n",
       "        vertical-align: middle;\n",
       "    }\n",
       "\n",
       "    .dataframe tbody tr th {\n",
       "        vertical-align: top;\n",
       "    }\n",
       "\n",
       "    .dataframe thead th {\n",
       "        text-align: right;\n",
       "    }\n",
       "</style>\n",
       "<table border=\"1\" class=\"dataframe\">\n",
       "  <thead>\n",
       "    <tr style=\"text-align: right;\">\n",
       "      <th></th>\n",
       "      <th>Numero_Expediente</th>\n",
       "      <th>Codigo_Distrito</th>\n",
       "      <th>Nombre_Distrito</th>\n",
       "      <th>Codigo_Barrio</th>\n",
       "      <th>Nombre_Barrio</th>\n",
       "      <th>Codigo_Calle</th>\n",
       "      <th>Nombre_Calle</th>\n",
       "      <th>Dia_Semana</th>\n",
       "      <th>Año</th>\n",
       "      <th>Mes</th>\n",
       "      <th>Dia</th>\n",
       "      <th>Hora</th>\n",
       "      <th>Motivo_Causa</th>\n",
       "      <th>Tipo_Vehiculo</th>\n",
       "      <th>Sexo</th>\n",
       "      <th>Edad</th>\n",
       "      <th>Tipo_Persona</th>\n",
       "      <th>Situacion</th>\n",
       "      <th>Gravedad_Victima</th>\n",
       "    </tr>\n",
       "  </thead>\n",
       "  <tbody>\n",
       "    <tr>\n",
       "      <td>0</td>\n",
       "      <td>2011S000321</td>\n",
       "      <td>2</td>\n",
       "      <td>Eixample</td>\n",
       "      <td>7</td>\n",
       "      <td>la Dreta de l'Eixample</td>\n",
       "      <td>169409</td>\n",
       "      <td>Corts Catalanes</td>\n",
       "      <td>Dilluns</td>\n",
       "      <td>2011</td>\n",
       "      <td>1</td>\n",
       "      <td>17</td>\n",
       "      <td>21</td>\n",
       "      <td>No és causa del  vianant</td>\n",
       "      <td>Motocicleta</td>\n",
       "      <td>Home</td>\n",
       "      <td>33</td>\n",
       "      <td>Conductor</td>\n",
       "      <td>NaN</td>\n",
       "      <td>Ferit lleu</td>\n",
       "    </tr>\n",
       "    <tr>\n",
       "      <td>1</td>\n",
       "      <td>2011S000324</td>\n",
       "      <td>9</td>\n",
       "      <td>Sant Andreu</td>\n",
       "      <td>60</td>\n",
       "      <td>Sant Andreu</td>\n",
       "      <td>170758</td>\n",
       "      <td>Josep Soldevila</td>\n",
       "      <td>Dilluns</td>\n",
       "      <td>2011</td>\n",
       "      <td>1</td>\n",
       "      <td>17</td>\n",
       "      <td>20</td>\n",
       "      <td>No és causa del  vianant</td>\n",
       "      <td>Ciclomotor</td>\n",
       "      <td>Home</td>\n",
       "      <td>19</td>\n",
       "      <td>Conductor</td>\n",
       "      <td>NaN</td>\n",
       "      <td>Ferit lleu</td>\n",
       "    </tr>\n",
       "    <tr>\n",
       "      <td>2</td>\n",
       "      <td>2011S000004</td>\n",
       "      <td>1</td>\n",
       "      <td>Ciutat Vella</td>\n",
       "      <td>2</td>\n",
       "      <td>el Barri Gotic</td>\n",
       "      <td>74404</td>\n",
       "      <td>Catalunya</td>\n",
       "      <td>Dissabte</td>\n",
       "      <td>2011</td>\n",
       "      <td>1</td>\n",
       "      <td>1</td>\n",
       "      <td>14</td>\n",
       "      <td>Creuar per fora pas de vianants</td>\n",
       "      <td>Motocicleta</td>\n",
       "      <td>Home</td>\n",
       "      <td>26</td>\n",
       "      <td>Conductor</td>\n",
       "      <td>NaN</td>\n",
       "      <td>Ferit lleu</td>\n",
       "    </tr>\n",
       "    <tr>\n",
       "      <td>3</td>\n",
       "      <td>2011S000011</td>\n",
       "      <td>9</td>\n",
       "      <td>Sant Andreu</td>\n",
       "      <td>57</td>\n",
       "      <td>la Trinitat Vella</td>\n",
       "      <td>314100</td>\n",
       "      <td>Santa Coloma</td>\n",
       "      <td>Diumenge</td>\n",
       "      <td>2011</td>\n",
       "      <td>1</td>\n",
       "      <td>2</td>\n",
       "      <td>6</td>\n",
       "      <td>No és causa del  vianant</td>\n",
       "      <td>Turismo</td>\n",
       "      <td>Home</td>\n",
       "      <td>22</td>\n",
       "      <td>Passatger</td>\n",
       "      <td>NaN</td>\n",
       "      <td>Ferit lleu</td>\n",
       "    </tr>\n",
       "    <tr>\n",
       "      <td>4</td>\n",
       "      <td>2011S000013</td>\n",
       "      <td>2</td>\n",
       "      <td>Eixample</td>\n",
       "      <td>8</td>\n",
       "      <td>l'Antiga Esquerra de l'Eixample</td>\n",
       "      <td>23403</td>\n",
       "      <td>Aribau</td>\n",
       "      <td>Diumenge</td>\n",
       "      <td>2011</td>\n",
       "      <td>1</td>\n",
       "      <td>2</td>\n",
       "      <td>4</td>\n",
       "      <td>No és causa del  vianant</td>\n",
       "      <td>Taxi</td>\n",
       "      <td>Home</td>\n",
       "      <td>29</td>\n",
       "      <td>Conductor</td>\n",
       "      <td>NaN</td>\n",
       "      <td>Ferit lleu</td>\n",
       "    </tr>\n",
       "  </tbody>\n",
       "</table>\n",
       "</div>"
      ],
      "text/plain": [
       "  Numero_Expediente Codigo_Distrito Nombre_Distrito Codigo_Barrio  \\\n",
       "0   2011S000321                   2        Eixample             7   \n",
       "1   2011S000324                   9     Sant Andreu            60   \n",
       "2   2011S000004                   1    Ciutat Vella             2   \n",
       "3   2011S000011                   9     Sant Andreu            57   \n",
       "4   2011S000013                   2        Eixample             8   \n",
       "\n",
       "                     Nombre_Barrio Codigo_Calle     Nombre_Calle Dia_Semana  \\\n",
       "0           la Dreta de l'Eixample       169409  Corts Catalanes    Dilluns   \n",
       "1                      Sant Andreu       170758  Josep Soldevila    Dilluns   \n",
       "2                   el Barri Gotic        74404        Catalunya   Dissabte   \n",
       "3                la Trinitat Vella       314100     Santa Coloma   Diumenge   \n",
       "4  l'Antiga Esquerra de l'Eixample        23403           Aribau   Diumenge   \n",
       "\n",
       "    Año  Mes  Dia  Hora                     Motivo_Causa Tipo_Vehiculo  Sexo  \\\n",
       "0  2011    1   17    21         No és causa del  vianant   Motocicleta  Home   \n",
       "1  2011    1   17    20         No és causa del  vianant    Ciclomotor  Home   \n",
       "2  2011    1    1    14  Creuar per fora pas de vianants   Motocicleta  Home   \n",
       "3  2011    1    2     6         No és causa del  vianant       Turismo  Home   \n",
       "4  2011    1    2     4         No és causa del  vianant          Taxi  Home   \n",
       "\n",
       "   Edad Tipo_Persona Situacion Gravedad_Victima  \n",
       "0    33    Conductor       NaN       Ferit lleu  \n",
       "1    19    Conductor       NaN       Ferit lleu  \n",
       "2    26    Conductor       NaN       Ferit lleu  \n",
       "3    22    Passatger       NaN       Ferit lleu  \n",
       "4    29    Conductor       NaN       Ferit lleu  "
      ]
     },
     "execution_count": 1,
     "metadata": {},
     "output_type": "execute_result"
    }
   ],
   "source": [
    "#Importamos las librerias y cargamos los dataframes que hemos preparado en el notebook correspondiente:\n",
    "\n",
    "import pandas as pd\n",
    "import numpy as np\n",
    "import matplotlib.pyplot as plt\n",
    "import seaborn as sns\n",
    "import plotly as py\n",
    "import cufflinks as cf\n",
    "\n",
    "cf.go_offline()\n",
    "%matplotlib inline\n",
    "\n",
    "bcn = pd.read_csv('bcn.csv', sep='\\t', index_col = False)\n",
    "bcn.head()"
   ]
  },
  {
   "cell_type": "code",
   "execution_count": 2,
   "metadata": {},
   "outputs": [
    {
     "data": {
      "text/html": [
       "<div>\n",
       "<style scoped>\n",
       "    .dataframe tbody tr th:only-of-type {\n",
       "        vertical-align: middle;\n",
       "    }\n",
       "\n",
       "    .dataframe tbody tr th {\n",
       "        vertical-align: top;\n",
       "    }\n",
       "\n",
       "    .dataframe thead th {\n",
       "        text-align: right;\n",
       "    }\n",
       "</style>\n",
       "<table border=\"1\" class=\"dataframe\">\n",
       "  <thead>\n",
       "    <tr style=\"text-align: right;\">\n",
       "      <th></th>\n",
       "      <th>Año</th>\n",
       "      <th>Turismos</th>\n",
       "      <th>Autobuses</th>\n",
       "      <th>Motocicletas</th>\n",
       "      <th>Camiones</th>\n",
       "      <th>Tractores industriales</th>\n",
       "      <th>Ciclomotores</th>\n",
       "      <th>Otros</th>\n",
       "      <th>Total</th>\n",
       "    </tr>\n",
       "  </thead>\n",
       "  <tbody>\n",
       "    <tr>\n",
       "      <td>0</td>\n",
       "      <td>2011</td>\n",
       "      <td>2402574</td>\n",
       "      <td>6111</td>\n",
       "      <td>523361</td>\n",
       "      <td>513009</td>\n",
       "      <td>15490</td>\n",
       "      <td>209763</td>\n",
       "      <td>97125</td>\n",
       "      <td>3767433</td>\n",
       "    </tr>\n",
       "    <tr>\n",
       "      <td>1</td>\n",
       "      <td>2012</td>\n",
       "      <td>2393017</td>\n",
       "      <td>5965</td>\n",
       "      <td>531934</td>\n",
       "      <td>504822</td>\n",
       "      <td>14692</td>\n",
       "      <td>202007</td>\n",
       "      <td>95333</td>\n",
       "      <td>3747770</td>\n",
       "    </tr>\n",
       "    <tr>\n",
       "      <td>2</td>\n",
       "      <td>2013</td>\n",
       "      <td>2366511</td>\n",
       "      <td>5879</td>\n",
       "      <td>538926</td>\n",
       "      <td>493579</td>\n",
       "      <td>14092</td>\n",
       "      <td>193473</td>\n",
       "      <td>92739</td>\n",
       "      <td>3705199</td>\n",
       "    </tr>\n",
       "    <tr>\n",
       "      <td>3</td>\n",
       "      <td>2014</td>\n",
       "      <td>2347766</td>\n",
       "      <td>5902</td>\n",
       "      <td>551787</td>\n",
       "      <td>484340</td>\n",
       "      <td>14046</td>\n",
       "      <td>186888</td>\n",
       "      <td>92008</td>\n",
       "      <td>3682737</td>\n",
       "    </tr>\n",
       "    <tr>\n",
       "      <td>4</td>\n",
       "      <td>2015</td>\n",
       "      <td>2385649</td>\n",
       "      <td>5971</td>\n",
       "      <td>571878</td>\n",
       "      <td>488554</td>\n",
       "      <td>14535</td>\n",
       "      <td>181630</td>\n",
       "      <td>91445</td>\n",
       "      <td>3739662</td>\n",
       "    </tr>\n",
       "    <tr>\n",
       "      <td>5</td>\n",
       "      <td>2016</td>\n",
       "      <td>2437180</td>\n",
       "      <td>6086</td>\n",
       "      <td>598837</td>\n",
       "      <td>493881</td>\n",
       "      <td>15250</td>\n",
       "      <td>177451</td>\n",
       "      <td>93240</td>\n",
       "      <td>3821925</td>\n",
       "    </tr>\n",
       "  </tbody>\n",
       "</table>\n",
       "</div>"
      ],
      "text/plain": [
       "    Año  Turismos  Autobuses  Motocicletas  Camiones  Tractores industriales  \\\n",
       "0  2011   2402574       6111        523361    513009                   15490   \n",
       "1  2012   2393017       5965        531934    504822                   14692   \n",
       "2  2013   2366511       5879        538926    493579                   14092   \n",
       "3  2014   2347766       5902        551787    484340                   14046   \n",
       "4  2015   2385649       5971        571878    488554                   14535   \n",
       "5  2016   2437180       6086        598837    493881                   15250   \n",
       "\n",
       "   Ciclomotores  Otros    Total  \n",
       "0        209763  97125  3767433  \n",
       "1        202007  95333  3747770  \n",
       "2        193473  92739  3705199  \n",
       "3        186888  92008  3682737  \n",
       "4        181630  91445  3739662  \n",
       "5        177451  93240  3821925  "
      ]
     },
     "execution_count": 2,
     "metadata": {},
     "output_type": "execute_result"
    }
   ],
   "source": [
    "parque_BCN = pd.read_csv('parque_BCN.csv', sep='\\t', index_col = False)\n",
    "parque_BCN"
   ]
  },
  {
   "cell_type": "code",
   "execution_count": 3,
   "metadata": {},
   "outputs": [],
   "source": [
    "#Aqui iremos introduciendo la corrección de errores que iremos encontrando a medida que avancemos:\n",
    "\n"
   ]
  },
  {
   "cell_type": "markdown",
   "metadata": {},
   "source": [
    "En este notebook haremos lo siguiente:\n",
    "\n",
    "-Analizaremos los datos de accidentes por distrito, barrio, dias de la semana\n",
    "\n",
    "-Analizaremos la evolucion temporal, a lo largo de los años (y por meses tambien) de estos accidentes\n",
    "\n",
    "-Buscaremos correlaciones entre los codigos de barrio/distrito y el tipo de dia donde ocurren los accidentes:\n",
    "        Ejemplo, ¿hay mas accidentes en el Born los fines de semana que en otros barrios?\n",
    "\n",
    "-Buscaremos correlaciones entre el tipo de vehiculo implicado y la gravedad de la victima:\n",
    "        Ejemplo, ¿los accidentes con motos son mas graves?\n",
    "        \n",
    "-Plantearemos un test de hipotesis en funcion de todos los resultados anteriores:\n",
    "        Ejemplo, ¿la edad de los accidentados es mayor de X?\n",
    "        \n",
    "-Mirar relacion entre nº accidentes y parque movil. Relacion lineal?"
   ]
  },
  {
   "cell_type": "code",
   "execution_count": 4,
   "metadata": {},
   "outputs": [
    {
     "data": {
      "text/html": [
       "<div>\n",
       "<style scoped>\n",
       "    .dataframe tbody tr th:only-of-type {\n",
       "        vertical-align: middle;\n",
       "    }\n",
       "\n",
       "    .dataframe tbody tr th {\n",
       "        vertical-align: top;\n",
       "    }\n",
       "\n",
       "    .dataframe thead th {\n",
       "        text-align: right;\n",
       "    }\n",
       "</style>\n",
       "<table border=\"1\" class=\"dataframe\">\n",
       "  <thead>\n",
       "    <tr style=\"text-align: right;\">\n",
       "      <th></th>\n",
       "      <th>Nombre_Distrito</th>\n",
       "      <th>Numero_accidentes</th>\n",
       "    </tr>\n",
       "  </thead>\n",
       "  <tbody>\n",
       "    <tr>\n",
       "      <td>0</td>\n",
       "      <td>Ciutat Vella</td>\n",
       "      <td>3636</td>\n",
       "    </tr>\n",
       "    <tr>\n",
       "      <td>2</td>\n",
       "      <td>Eixample</td>\n",
       "      <td>20267</td>\n",
       "    </tr>\n",
       "    <tr>\n",
       "      <td>3</td>\n",
       "      <td>Gracia</td>\n",
       "      <td>3276</td>\n",
       "    </tr>\n",
       "    <tr>\n",
       "      <td>4</td>\n",
       "      <td>Horta-Guinardo</td>\n",
       "      <td>4660</td>\n",
       "    </tr>\n",
       "    <tr>\n",
       "      <td>5</td>\n",
       "      <td>Les Corts</td>\n",
       "      <td>4883</td>\n",
       "    </tr>\n",
       "    <tr>\n",
       "      <td>6</td>\n",
       "      <td>Nou Barris</td>\n",
       "      <td>3626</td>\n",
       "    </tr>\n",
       "    <tr>\n",
       "      <td>7</td>\n",
       "      <td>Sant Andreu</td>\n",
       "      <td>4429</td>\n",
       "    </tr>\n",
       "    <tr>\n",
       "      <td>8</td>\n",
       "      <td>Sant Marti</td>\n",
       "      <td>8240</td>\n",
       "    </tr>\n",
       "    <tr>\n",
       "      <td>9</td>\n",
       "      <td>Sants-Montjuic</td>\n",
       "      <td>7293</td>\n",
       "    </tr>\n",
       "    <tr>\n",
       "      <td>10</td>\n",
       "      <td>Sarria-Sant Gervasi</td>\n",
       "      <td>7553</td>\n",
       "    </tr>\n",
       "  </tbody>\n",
       "</table>\n",
       "</div>"
      ],
      "text/plain": [
       "        Nombre_Distrito  Numero_accidentes\n",
       "0          Ciutat Vella               3636\n",
       "2              Eixample              20267\n",
       "3                Gracia               3276\n",
       "4        Horta-Guinardo               4660\n",
       "5             Les Corts               4883\n",
       "6            Nou Barris               3626\n",
       "7           Sant Andreu               4429\n",
       "8            Sant Marti               8240\n",
       "9        Sants-Montjuic               7293\n",
       "10  Sarria-Sant Gervasi               7553"
      ]
     },
     "execution_count": 4,
     "metadata": {},
     "output_type": "execute_result"
    }
   ],
   "source": [
    "#Comenzamos por analizar los datos por distrito:\n",
    "bcn_distrito = bcn.groupby(['Nombre_Distrito'],as_index = False).agg({'Numero_Expediente':'count'})\n",
    "bcn_distrito = bcn_distrito.rename(columns={'Numero_Expediente': 'Numero_accidentes'})\n",
    "\n",
    "#Quitamos los casos no de distrito desconocido:\n",
    "bcn_distrito = bcn_distrito.loc[~bcn_distrito['Nombre_Distrito'].isin(['Desconegut'])]\n",
    "\n",
    "bcn_distrito"
   ]
  },
  {
   "cell_type": "code",
   "execution_count": 5,
   "metadata": {},
   "outputs": [
    {
     "data": {
      "application/vnd.plotly.v1+json": {
       "config": {
        "linkText": "Export to plot.ly",
        "plotlyServerURL": "https://plot.ly",
        "showLink": true
       },
       "data": [
        {
         "marker": {
          "color": "rgba(219, 64, 82, 0.6)",
          "line": {
           "color": "rgba(219, 64, 82, 1.0)",
           "width": 1
          }
         },
         "name": "Numero_accidentes",
         "orientation": "v",
         "text": "",
         "type": "bar",
         "uid": "be146c22-2686-44f7-8ee9-0c28de8f79da",
         "x": [
          "Ciutat Vella",
          "Eixample",
          "Gracia",
          "Horta-Guinardo",
          "Les Corts",
          "Nou Barris",
          "Sant Andreu",
          "Sant Marti",
          "Sants-Montjuic",
          "Sarria-Sant Gervasi"
         ],
         "y": [
          3636,
          20267,
          3276,
          4660,
          4883,
          3626,
          4429,
          8240,
          7293,
          7553
         ]
        }
       ],
       "layout": {
        "legend": {
         "bgcolor": "#F5F6F9",
         "font": {
          "color": "#4D5663"
         }
        },
        "paper_bgcolor": "#F5F6F9",
        "plot_bgcolor": "#F5F6F9",
        "title": {
         "font": {
          "color": "#4D5663"
         },
         "text": "Accidentes por distrito"
        },
        "xaxis": {
         "gridcolor": "#E1E5ED",
         "showgrid": true,
         "tickfont": {
          "color": "#4D5663"
         },
         "title": {
          "font": {
           "color": "#4D5663"
          },
          "text": "Distrito"
         },
         "zerolinecolor": "#E1E5ED"
        },
        "yaxis": {
         "gridcolor": "#E1E5ED",
         "showgrid": true,
         "tickfont": {
          "color": "#4D5663"
         },
         "title": {
          "font": {
           "color": "#4D5663"
          },
          "text": "Numero de accidentes"
         },
         "zerolinecolor": "#E1E5ED"
        }
       }
      },
      "text/html": [
       "<div>\n",
       "        \n",
       "        \n",
       "            <div id=\"00c073cd-5416-4ba9-a9fb-94187935be9a\" class=\"plotly-graph-div\" style=\"height:525px; width:100%;\"></div>\n",
       "            <script type=\"text/javascript\">\n",
       "                require([\"plotly\"], function(Plotly) {\n",
       "                    window.PLOTLYENV=window.PLOTLYENV || {};\n",
       "                    window.PLOTLYENV.BASE_URL='https://plot.ly';\n",
       "                    \n",
       "                if (document.getElementById(\"00c073cd-5416-4ba9-a9fb-94187935be9a\")) {\n",
       "                    Plotly.newPlot(\n",
       "                        '00c073cd-5416-4ba9-a9fb-94187935be9a',\n",
       "                        [{\"marker\": {\"color\": \"rgba(219, 64, 82, 0.6)\", \"line\": {\"color\": \"rgba(219, 64, 82, 1.0)\", \"width\": 1}}, \"name\": \"Numero_accidentes\", \"orientation\": \"v\", \"text\": \"\", \"type\": \"bar\", \"uid\": \"be146c22-2686-44f7-8ee9-0c28de8f79da\", \"x\": [\"Ciutat Vella\", \"Eixample\", \"Gracia\", \"Horta-Guinardo\", \"Les Corts\", \"Nou Barris\", \"Sant Andreu\", \"Sant Marti\", \"Sants-Montjuic\", \"Sarria-Sant Gervasi\"], \"y\": [3636, 20267, 3276, 4660, 4883, 3626, 4429, 8240, 7293, 7553]}],\n",
       "                        {\"legend\": {\"bgcolor\": \"#F5F6F9\", \"font\": {\"color\": \"#4D5663\"}}, \"paper_bgcolor\": \"#F5F6F9\", \"plot_bgcolor\": \"#F5F6F9\", \"title\": {\"font\": {\"color\": \"#4D5663\"}, \"text\": \"Accidentes por distrito\"}, \"xaxis\": {\"gridcolor\": \"#E1E5ED\", \"showgrid\": true, \"tickfont\": {\"color\": \"#4D5663\"}, \"title\": {\"font\": {\"color\": \"#4D5663\"}, \"text\": \"Distrito\"}, \"zerolinecolor\": \"#E1E5ED\"}, \"yaxis\": {\"gridcolor\": \"#E1E5ED\", \"showgrid\": true, \"tickfont\": {\"color\": \"#4D5663\"}, \"title\": {\"font\": {\"color\": \"#4D5663\"}, \"text\": \"Numero de accidentes\"}, \"zerolinecolor\": \"#E1E5ED\"}},\n",
       "                        {\"showLink\": true, \"linkText\": \"Export to plot.ly\", \"plotlyServerURL\": \"https://plot.ly\", \"responsive\": true}\n",
       "                    ).then(function(){\n",
       "                            \n",
       "var gd = document.getElementById('00c073cd-5416-4ba9-a9fb-94187935be9a');\n",
       "var x = new MutationObserver(function (mutations, observer) {{\n",
       "        var display = window.getComputedStyle(gd).display;\n",
       "        if (!display || display === 'none') {{\n",
       "            console.log([gd, 'removed!']);\n",
       "            Plotly.purge(gd);\n",
       "            observer.disconnect();\n",
       "        }}\n",
       "}});\n",
       "\n",
       "// Listen for the removal of the full notebook cells\n",
       "var notebookContainer = gd.closest('#notebook-container');\n",
       "if (notebookContainer) {{\n",
       "    x.observe(notebookContainer, {childList: true});\n",
       "}}\n",
       "\n",
       "// Listen for the clearing of the current output cell\n",
       "var outputEl = gd.closest('.output');\n",
       "if (outputEl) {{\n",
       "    x.observe(outputEl, {childList: true});\n",
       "}}\n",
       "\n",
       "                        })\n",
       "                };\n",
       "                });\n",
       "            </script>\n",
       "        </div>"
      ]
     },
     "metadata": {},
     "output_type": "display_data"
    }
   ],
   "source": [
    "#Mostramos una grafica de los datos:\n",
    "bcn_distrito.iplot(kind='bar', x='Nombre_Distrito', xTitle='Distrito', color='red',\n",
    "           yTitle='Numero de accidentes', title='Accidentes por distrito')"
   ]
  },
  {
   "cell_type": "code",
   "execution_count": 6,
   "metadata": {},
   "outputs": [
    {
     "data": {
      "text/html": [
       "<div>\n",
       "<style scoped>\n",
       "    .dataframe tbody tr th:only-of-type {\n",
       "        vertical-align: middle;\n",
       "    }\n",
       "\n",
       "    .dataframe tbody tr th {\n",
       "        vertical-align: top;\n",
       "    }\n",
       "\n",
       "    .dataframe thead th {\n",
       "        text-align: right;\n",
       "    }\n",
       "</style>\n",
       "<table border=\"1\" class=\"dataframe\">\n",
       "  <thead>\n",
       "    <tr style=\"text-align: right;\">\n",
       "      <th></th>\n",
       "      <th>Nombre_Barrio</th>\n",
       "      <th>Numero_accidentes</th>\n",
       "    </tr>\n",
       "  </thead>\n",
       "  <tbody>\n",
       "    <tr>\n",
       "      <td>0</td>\n",
       "      <td>Baro de Viver</td>\n",
       "      <td>154</td>\n",
       "    </tr>\n",
       "    <tr>\n",
       "      <td>1</td>\n",
       "      <td>Can Baro</td>\n",
       "      <td>123</td>\n",
       "    </tr>\n",
       "    <tr>\n",
       "      <td>2</td>\n",
       "      <td>Can Peguera</td>\n",
       "      <td>49</td>\n",
       "    </tr>\n",
       "    <tr>\n",
       "      <td>3</td>\n",
       "      <td>Canyelles</td>\n",
       "      <td>302</td>\n",
       "    </tr>\n",
       "    <tr>\n",
       "      <td>4</td>\n",
       "      <td>Ciutat Meridiana</td>\n",
       "      <td>55</td>\n",
       "    </tr>\n",
       "  </tbody>\n",
       "</table>\n",
       "</div>"
      ],
      "text/plain": [
       "      Nombre_Barrio  Numero_accidentes\n",
       "0     Baro de Viver                154\n",
       "1          Can Baro                123\n",
       "2       Can Peguera                 49\n",
       "3         Canyelles                302\n",
       "4  Ciutat Meridiana                 55"
      ]
     },
     "execution_count": 6,
     "metadata": {},
     "output_type": "execute_result"
    }
   ],
   "source": [
    "#Repetimos el proceso por barrios:\n",
    "\n",
    "#Comenzamos por analizar los datos por distrito:\n",
    "bcn_barrio = bcn.groupby(['Nombre_Barrio'],as_index = False).agg({'Numero_Expediente':'count'})\n",
    "bcn_barrio = bcn_barrio.rename(columns={'Numero_Expediente': 'Numero_accidentes'})\n",
    "\n",
    "#Quitamos los casos no de distrito desconocido:\n",
    "bcn_barrio = bcn_barrio.loc[~bcn_barrio['Nombre_Barrio'].isin(['Desconegut'])]\n",
    "\n",
    "bcn_barrio.head()"
   ]
  },
  {
   "cell_type": "code",
   "execution_count": 7,
   "metadata": {},
   "outputs": [
    {
     "data": {
      "application/vnd.plotly.v1+json": {
       "config": {
        "linkText": "Export to plot.ly",
        "plotlyServerURL": "https://plot.ly",
        "showLink": true
       },
       "data": [
        {
         "marker": {
          "color": "rgba(0, 128, 0, 0.6)",
          "line": {
           "color": "rgba(0, 128, 0, 1.0)",
           "width": 1
          }
         },
         "name": "Numero_accidentes",
         "orientation": "v",
         "text": "",
         "type": "bar",
         "uid": "dc6499ea-b24f-4263-9154-d4b80b5125a6",
         "x": [
          "Baro de Viver",
          "Can Baro",
          "Can Peguera",
          "Canyelles",
          "Ciutat Meridiana",
          "Diagonal Mar i el Front Marítim del Poblenou",
          "Horta",
          "Hostafrancs",
          "Montbau",
          "Navas",
          "Pedralbes",
          "Porta",
          "Provençals del Poblenou",
          "Sant Andreu",
          "Sant Antoni",
          "Sant Genís dels Agudells",
          "Sant Gervasi - Galvany",
          "Sant Gervasi - la Bonanova",
          "Sant Martí de Provençals",
          "Sant Pere, Santa Caterina i la Ribera",
          "Sants",
          "Sants - Badal",
          "Sarria",
          "Torre Baro",
          "Vallbona",
          "Vallcarca i els Penitents",
          "Vallvidrera, el Tibidabo i les Planes",
          "Verdun",
          "Vilapicina i la Torre Llobeta",
          "el Baix Guinardó",
          "el Barri Gotic",
          "el Besòs i el Maresme",
          "el Bon Pastor",
          "el Camp d'en Grassot i Gràcia Nova",
          "el Camp de l'Arpa del Clot",
          "el Carmel",
          "el Clot",
          "el Coll",
          "el Congrés i els Indians",
          "el Fort Pienc",
          "el Guinardó",
          "el Parc i la Llacuna del Poblenou",
          "el Poble Sec",
          "el Poblenou",
          "el Putxet i el Farró",
          "el Raval",
          "el Turó de la Peira",
          "l'Antiga Esquerra de l'Eixample",
          "la Barceloneta",
          "la Bordeta",
          "la Clota",
          "la Dreta de l'Eixample",
          "la Font d'en Fargues",
          "la Font de la Guatlla",
          "la Guineueta",
          "la Marina de Port",
          "la Marina del Prat Vermell",
          "la Maternitat i Sant Ramon",
          "la Nova Esquerra de l'Eixample",
          "la Prosperitat",
          "la Sagrada Família",
          "la Sagrera",
          "la Salut",
          "la Teixonera",
          "la Trinitat Nova",
          "la Trinitat Vella",
          "la Vall d'Hebron",
          "la Verneda i la Pau",
          "la Vila Olímpica del Poblenou",
          "la Vila de Gràcia",
          "les Corts",
          "les Roquetes",
          "les Tres Torres"
         ],
         "y": [
          154,
          123,
          49,
          302,
          55,
          899,
          910,
          784,
          250,
          492,
          1215,
          536,
          1141,
          1274,
          1694,
          336,
          2809,
          1627,
          510,
          859,
          1059,
          468,
          1199,
          82,
          50,
          837,
          158,
          160,
          558,
          757,
          921,
          449,
          994,
          781,
          1054,
          505,
          834,
          92,
          329,
          1944,
          776,
          1070,
          1702,
          920,
          807,
          986,
          147,
          3753,
          870,
          611,
          113,
          7968,
          212,
          354,
          279,
          689,
          1626,
          1590,
          2672,
          538,
          2236,
          569,
          452,
          180,
          559,
          617,
          498,
          519,
          844,
          1114,
          2078,
          311,
          953
         ]
        }
       ],
       "layout": {
        "legend": {
         "bgcolor": "#F5F6F9",
         "font": {
          "color": "#4D5663"
         }
        },
        "paper_bgcolor": "#F5F6F9",
        "plot_bgcolor": "#F5F6F9",
        "title": {
         "font": {
          "color": "#4D5663"
         },
         "text": "Accidentes por barrio"
        },
        "xaxis": {
         "gridcolor": "#E1E5ED",
         "showgrid": true,
         "tickfont": {
          "color": "#4D5663"
         },
         "title": {
          "font": {
           "color": "#4D5663"
          },
          "text": "Barrio"
         },
         "zerolinecolor": "#E1E5ED"
        },
        "yaxis": {
         "gridcolor": "#E1E5ED",
         "showgrid": true,
         "tickfont": {
          "color": "#4D5663"
         },
         "title": {
          "font": {
           "color": "#4D5663"
          },
          "text": "Numero de accidentes"
         },
         "zerolinecolor": "#E1E5ED"
        }
       }
      },
      "text/html": [
       "<div>\n",
       "        \n",
       "        \n",
       "            <div id=\"bdb96b07-582b-453d-8618-dd603e90b7c8\" class=\"plotly-graph-div\" style=\"height:525px; width:100%;\"></div>\n",
       "            <script type=\"text/javascript\">\n",
       "                require([\"plotly\"], function(Plotly) {\n",
       "                    window.PLOTLYENV=window.PLOTLYENV || {};\n",
       "                    window.PLOTLYENV.BASE_URL='https://plot.ly';\n",
       "                    \n",
       "                if (document.getElementById(\"bdb96b07-582b-453d-8618-dd603e90b7c8\")) {\n",
       "                    Plotly.newPlot(\n",
       "                        'bdb96b07-582b-453d-8618-dd603e90b7c8',\n",
       "                        [{\"marker\": {\"color\": \"rgba(0, 128, 0, 0.6)\", \"line\": {\"color\": \"rgba(0, 128, 0, 1.0)\", \"width\": 1}}, \"name\": \"Numero_accidentes\", \"orientation\": \"v\", \"text\": \"\", \"type\": \"bar\", \"uid\": \"dc6499ea-b24f-4263-9154-d4b80b5125a6\", \"x\": [\"Baro de Viver\", \"Can Baro\", \"Can Peguera\", \"Canyelles\", \"Ciutat Meridiana\", \"Diagonal Mar i el Front Mar\\u00edtim del Poblenou\", \"Horta\", \"Hostafrancs\", \"Montbau\", \"Navas\", \"Pedralbes\", \"Porta\", \"Proven\\u00e7als del Poblenou\", \"Sant Andreu\", \"Sant Antoni\", \"Sant Gen\\u00eds dels Agudells\", \"Sant Gervasi - Galvany\", \"Sant Gervasi - la Bonanova\", \"Sant Mart\\u00ed de Proven\\u00e7als\", \"Sant Pere, Santa Caterina i la Ribera\", \"Sants\", \"Sants - Badal\", \"Sarria\", \"Torre Baro\", \"Vallbona\", \"Vallcarca i els Penitents\", \"Vallvidrera, el Tibidabo i les Planes\", \"Verdun\", \"Vilapicina i la Torre Llobeta\", \"el Baix Guinard\\u00f3\", \"el Barri Gotic\", \"el Bes\\u00f2s i el Maresme\", \"el Bon Pastor\", \"el Camp d'en Grassot i Gr\\u00e0cia Nova\", \"el Camp de l'Arpa del Clot\", \"el Carmel\", \"el Clot\", \"el Coll\", \"el Congr\\u00e9s i els Indians\", \"el Fort Pienc\", \"el Guinard\\u00f3\", \"el Parc i la Llacuna del Poblenou\", \"el Poble Sec\", \"el Poblenou\", \"el Putxet i el Farr\\u00f3\", \"el Raval\", \"el Tur\\u00f3 de la Peira\", \"l'Antiga Esquerra de l'Eixample\", \"la Barceloneta\", \"la Bordeta\", \"la Clota\", \"la Dreta de l'Eixample\", \"la Font d'en Fargues\", \"la Font de la Guatlla\", \"la Guineueta\", \"la Marina de Port\", \"la Marina del Prat Vermell\", \"la Maternitat i Sant Ramon\", \"la Nova Esquerra de l'Eixample\", \"la Prosperitat\", \"la Sagrada Fam\\u00edlia\", \"la Sagrera\", \"la Salut\", \"la Teixonera\", \"la Trinitat Nova\", \"la Trinitat Vella\", \"la Vall d'Hebron\", \"la Verneda i la Pau\", \"la Vila Ol\\u00edmpica del Poblenou\", \"la Vila de Gr\\u00e0cia\", \"les Corts\", \"les Roquetes\", \"les Tres Torres\"], \"y\": [154, 123, 49, 302, 55, 899, 910, 784, 250, 492, 1215, 536, 1141, 1274, 1694, 336, 2809, 1627, 510, 859, 1059, 468, 1199, 82, 50, 837, 158, 160, 558, 757, 921, 449, 994, 781, 1054, 505, 834, 92, 329, 1944, 776, 1070, 1702, 920, 807, 986, 147, 3753, 870, 611, 113, 7968, 212, 354, 279, 689, 1626, 1590, 2672, 538, 2236, 569, 452, 180, 559, 617, 498, 519, 844, 1114, 2078, 311, 953]}],\n",
       "                        {\"legend\": {\"bgcolor\": \"#F5F6F9\", \"font\": {\"color\": \"#4D5663\"}}, \"paper_bgcolor\": \"#F5F6F9\", \"plot_bgcolor\": \"#F5F6F9\", \"title\": {\"font\": {\"color\": \"#4D5663\"}, \"text\": \"Accidentes por barrio\"}, \"xaxis\": {\"gridcolor\": \"#E1E5ED\", \"showgrid\": true, \"tickfont\": {\"color\": \"#4D5663\"}, \"title\": {\"font\": {\"color\": \"#4D5663\"}, \"text\": \"Barrio\"}, \"zerolinecolor\": \"#E1E5ED\"}, \"yaxis\": {\"gridcolor\": \"#E1E5ED\", \"showgrid\": true, \"tickfont\": {\"color\": \"#4D5663\"}, \"title\": {\"font\": {\"color\": \"#4D5663\"}, \"text\": \"Numero de accidentes\"}, \"zerolinecolor\": \"#E1E5ED\"}},\n",
       "                        {\"showLink\": true, \"linkText\": \"Export to plot.ly\", \"plotlyServerURL\": \"https://plot.ly\", \"responsive\": true}\n",
       "                    ).then(function(){\n",
       "                            \n",
       "var gd = document.getElementById('bdb96b07-582b-453d-8618-dd603e90b7c8');\n",
       "var x = new MutationObserver(function (mutations, observer) {{\n",
       "        var display = window.getComputedStyle(gd).display;\n",
       "        if (!display || display === 'none') {{\n",
       "            console.log([gd, 'removed!']);\n",
       "            Plotly.purge(gd);\n",
       "            observer.disconnect();\n",
       "        }}\n",
       "}});\n",
       "\n",
       "// Listen for the removal of the full notebook cells\n",
       "var notebookContainer = gd.closest('#notebook-container');\n",
       "if (notebookContainer) {{\n",
       "    x.observe(notebookContainer, {childList: true});\n",
       "}}\n",
       "\n",
       "// Listen for the clearing of the current output cell\n",
       "var outputEl = gd.closest('.output');\n",
       "if (outputEl) {{\n",
       "    x.observe(outputEl, {childList: true});\n",
       "}}\n",
       "\n",
       "                        })\n",
       "                };\n",
       "                });\n",
       "            </script>\n",
       "        </div>"
      ]
     },
     "metadata": {},
     "output_type": "display_data"
    }
   ],
   "source": [
    "#Mostramos una grafica de los datos:\n",
    "bcn_barrio.iplot(kind='bar', x='Nombre_Barrio', xTitle='Barrio', color='green',\n",
    "           yTitle='Numero de accidentes', title='Accidentes por barrio')"
   ]
  },
  {
   "cell_type": "code",
   "execution_count": 8,
   "metadata": {},
   "outputs": [],
   "source": [
    "#Podemos ver que la derecha del eixample acumula el mayor numero de accidentes.\n",
    "#A falta de profundizar mas en los datos, esto se puede deber a que este barrio incluye un tramo de Av. Diagonal,\n",
    "#un tramo de paseo Sant Joan y gran via de les corts catalanes, todo Paseo de Gracia y plaza cataluña,\n",
    "#basicamente el centro transitable de la ciudad."
   ]
  },
  {
   "cell_type": "code",
   "execution_count": 9,
   "metadata": {},
   "outputs": [
    {
     "data": {
      "application/vnd.plotly.v1+json": {
       "config": {
        "linkText": "Export to plot.ly",
        "plotlyServerURL": "https://plot.ly",
        "showLink": true
       },
       "data": [
        {
         "marker": {
          "color": "rgba(255, 153, 51, 0.6)",
          "line": {
           "color": "rgba(255, 153, 51, 1.0)",
           "width": 1
          }
         },
         "name": "Numero_accidentes",
         "orientation": "v",
         "text": "",
         "type": "bar",
         "uid": "d72d515a-eb3f-4bd1-a251-bcb3fbf22683",
         "x": [
          1,
          2,
          3,
          4,
          5,
          6,
          7,
          8,
          9,
          10,
          11,
          12
         ],
         "y": [
          5256,
          5439,
          5740,
          5625,
          5933,
          5994,
          5996,
          4319,
          5580,
          6179,
          5883,
          6031
         ]
        }
       ],
       "layout": {
        "legend": {
         "bgcolor": "#F5F6F9",
         "font": {
          "color": "#4D5663"
         }
        },
        "paper_bgcolor": "#F5F6F9",
        "plot_bgcolor": "#F5F6F9",
        "title": {
         "font": {
          "color": "#4D5663"
         },
         "text": "Accidentes por mes"
        },
        "xaxis": {
         "gridcolor": "#E1E5ED",
         "showgrid": true,
         "tickfont": {
          "color": "#4D5663"
         },
         "title": {
          "font": {
           "color": "#4D5663"
          },
          "text": "Mes"
         },
         "zerolinecolor": "#E1E5ED"
        },
        "yaxis": {
         "gridcolor": "#E1E5ED",
         "showgrid": true,
         "tickfont": {
          "color": "#4D5663"
         },
         "title": {
          "font": {
           "color": "#4D5663"
          },
          "text": "Numero de accidentes"
         },
         "zerolinecolor": "#E1E5ED"
        }
       }
      },
      "text/html": [
       "<div>\n",
       "        \n",
       "        \n",
       "            <div id=\"a94dece7-c42e-4860-ab3c-4db73e65ea18\" class=\"plotly-graph-div\" style=\"height:525px; width:100%;\"></div>\n",
       "            <script type=\"text/javascript\">\n",
       "                require([\"plotly\"], function(Plotly) {\n",
       "                    window.PLOTLYENV=window.PLOTLYENV || {};\n",
       "                    window.PLOTLYENV.BASE_URL='https://plot.ly';\n",
       "                    \n",
       "                if (document.getElementById(\"a94dece7-c42e-4860-ab3c-4db73e65ea18\")) {\n",
       "                    Plotly.newPlot(\n",
       "                        'a94dece7-c42e-4860-ab3c-4db73e65ea18',\n",
       "                        [{\"marker\": {\"color\": \"rgba(255, 153, 51, 0.6)\", \"line\": {\"color\": \"rgba(255, 153, 51, 1.0)\", \"width\": 1}}, \"name\": \"Numero_accidentes\", \"orientation\": \"v\", \"text\": \"\", \"type\": \"bar\", \"uid\": \"d72d515a-eb3f-4bd1-a251-bcb3fbf22683\", \"x\": [1, 2, 3, 4, 5, 6, 7, 8, 9, 10, 11, 12], \"y\": [5256, 5439, 5740, 5625, 5933, 5994, 5996, 4319, 5580, 6179, 5883, 6031]}],\n",
       "                        {\"legend\": {\"bgcolor\": \"#F5F6F9\", \"font\": {\"color\": \"#4D5663\"}}, \"paper_bgcolor\": \"#F5F6F9\", \"plot_bgcolor\": \"#F5F6F9\", \"title\": {\"font\": {\"color\": \"#4D5663\"}, \"text\": \"Accidentes por mes\"}, \"xaxis\": {\"gridcolor\": \"#E1E5ED\", \"showgrid\": true, \"tickfont\": {\"color\": \"#4D5663\"}, \"title\": {\"font\": {\"color\": \"#4D5663\"}, \"text\": \"Mes\"}, \"zerolinecolor\": \"#E1E5ED\"}, \"yaxis\": {\"gridcolor\": \"#E1E5ED\", \"showgrid\": true, \"tickfont\": {\"color\": \"#4D5663\"}, \"title\": {\"font\": {\"color\": \"#4D5663\"}, \"text\": \"Numero de accidentes\"}, \"zerolinecolor\": \"#E1E5ED\"}},\n",
       "                        {\"showLink\": true, \"linkText\": \"Export to plot.ly\", \"plotlyServerURL\": \"https://plot.ly\", \"responsive\": true}\n",
       "                    ).then(function(){\n",
       "                            \n",
       "var gd = document.getElementById('a94dece7-c42e-4860-ab3c-4db73e65ea18');\n",
       "var x = new MutationObserver(function (mutations, observer) {{\n",
       "        var display = window.getComputedStyle(gd).display;\n",
       "        if (!display || display === 'none') {{\n",
       "            console.log([gd, 'removed!']);\n",
       "            Plotly.purge(gd);\n",
       "            observer.disconnect();\n",
       "        }}\n",
       "}});\n",
       "\n",
       "// Listen for the removal of the full notebook cells\n",
       "var notebookContainer = gd.closest('#notebook-container');\n",
       "if (notebookContainer) {{\n",
       "    x.observe(notebookContainer, {childList: true});\n",
       "}}\n",
       "\n",
       "// Listen for the clearing of the current output cell\n",
       "var outputEl = gd.closest('.output');\n",
       "if (outputEl) {{\n",
       "    x.observe(outputEl, {childList: true});\n",
       "}}\n",
       "\n",
       "                        })\n",
       "                };\n",
       "                });\n",
       "            </script>\n",
       "        </div>"
      ]
     },
     "metadata": {},
     "output_type": "display_data"
    }
   ],
   "source": [
    "#Ahora valoramos el numero de accidentes en funcion de los meses del año:\n",
    "\n",
    "#Comenzamos por analizar los datos por distrito:\n",
    "bcn_mes = bcn.groupby(['Mes'],as_index = False).agg({'Numero_Expediente':'count'})\n",
    "bcn_mes = bcn_mes.rename(columns={'Numero_Expediente': 'Numero_accidentes'})\n",
    "\n",
    "#Mostramos una grafica de los datos:\n",
    "bcn_mes.iplot(kind='bar', x='Mes', xTitle='Mes', color='orange',\n",
    "           yTitle='Numero de accidentes', title='Accidentes por mes')"
   ]
  },
  {
   "cell_type": "code",
   "execution_count": 10,
   "metadata": {},
   "outputs": [
    {
     "data": {
      "text/html": [
       "<div>\n",
       "<style scoped>\n",
       "    .dataframe tbody tr th:only-of-type {\n",
       "        vertical-align: middle;\n",
       "    }\n",
       "\n",
       "    .dataframe tbody tr th {\n",
       "        vertical-align: top;\n",
       "    }\n",
       "\n",
       "    .dataframe thead th {\n",
       "        text-align: right;\n",
       "    }\n",
       "</style>\n",
       "<table border=\"1\" class=\"dataframe\">\n",
       "  <thead>\n",
       "    <tr style=\"text-align: right;\">\n",
       "      <th></th>\n",
       "      <th>Año</th>\n",
       "      <th>Numero_accidentes</th>\n",
       "      <th>Total</th>\n",
       "      <th>Ratio</th>\n",
       "    </tr>\n",
       "  </thead>\n",
       "  <tbody>\n",
       "    <tr>\n",
       "      <td>0</td>\n",
       "      <td>2011</td>\n",
       "      <td>10296</td>\n",
       "      <td>3767433</td>\n",
       "      <td>0.002733</td>\n",
       "    </tr>\n",
       "    <tr>\n",
       "      <td>1</td>\n",
       "      <td>2012</td>\n",
       "      <td>11065</td>\n",
       "      <td>3747770</td>\n",
       "      <td>0.002952</td>\n",
       "    </tr>\n",
       "    <tr>\n",
       "      <td>2</td>\n",
       "      <td>2013</td>\n",
       "      <td>11376</td>\n",
       "      <td>3705199</td>\n",
       "      <td>0.003070</td>\n",
       "    </tr>\n",
       "    <tr>\n",
       "      <td>3</td>\n",
       "      <td>2014</td>\n",
       "      <td>11386</td>\n",
       "      <td>3682737</td>\n",
       "      <td>0.003092</td>\n",
       "    </tr>\n",
       "    <tr>\n",
       "      <td>4</td>\n",
       "      <td>2015</td>\n",
       "      <td>11780</td>\n",
       "      <td>3739662</td>\n",
       "      <td>0.003150</td>\n",
       "    </tr>\n",
       "    <tr>\n",
       "      <td>5</td>\n",
       "      <td>2016</td>\n",
       "      <td>12072</td>\n",
       "      <td>3821925</td>\n",
       "      <td>0.003159</td>\n",
       "    </tr>\n",
       "  </tbody>\n",
       "</table>\n",
       "</div>"
      ],
      "text/plain": [
       "    Año  Numero_accidentes    Total     Ratio\n",
       "0  2011              10296  3767433  0.002733\n",
       "1  2012              11065  3747770  0.002952\n",
       "2  2013              11376  3705199  0.003070\n",
       "3  2014              11386  3682737  0.003092\n",
       "4  2015              11780  3739662  0.003150\n",
       "5  2016              12072  3821925  0.003159"
      ]
     },
     "execution_count": 10,
     "metadata": {},
     "output_type": "execute_result"
    }
   ],
   "source": [
    "#Ahora valoramos el numero de accidentes en funcion de los años:\n",
    "\n",
    "#Comenzamos por analizar los datos por año:\n",
    "bcn_ano = bcn.groupby(['Año'],as_index = False).agg({'Numero_Expediente':'count'})\n",
    "bcn_ano = bcn_ano.rename(columns={'Numero_Expediente': 'Numero_accidentes'})\n",
    "\n",
    "bcn_ano = bcn_ano.join(parque_BCN['Total'])\n",
    "bcn_ano['Ratio'] = bcn_ano['Numero_accidentes']/bcn_ano['Total']\n",
    "\n",
    "bcn_ano"
   ]
  },
  {
   "cell_type": "code",
   "execution_count": 11,
   "metadata": {},
   "outputs": [
    {
     "data": {
      "text/html": [
       "<div>\n",
       "<style scoped>\n",
       "    .dataframe tbody tr th:only-of-type {\n",
       "        vertical-align: middle;\n",
       "    }\n",
       "\n",
       "    .dataframe tbody tr th {\n",
       "        vertical-align: top;\n",
       "    }\n",
       "\n",
       "    .dataframe thead th {\n",
       "        text-align: right;\n",
       "    }\n",
       "</style>\n",
       "<table border=\"1\" class=\"dataframe\">\n",
       "  <thead>\n",
       "    <tr style=\"text-align: right;\">\n",
       "      <th></th>\n",
       "      <th>Año</th>\n",
       "      <th>Ratio</th>\n",
       "    </tr>\n",
       "  </thead>\n",
       "  <tbody>\n",
       "    <tr>\n",
       "      <td>0</td>\n",
       "      <td>2011</td>\n",
       "      <td>0.002733</td>\n",
       "    </tr>\n",
       "    <tr>\n",
       "      <td>1</td>\n",
       "      <td>2012</td>\n",
       "      <td>0.002952</td>\n",
       "    </tr>\n",
       "    <tr>\n",
       "      <td>2</td>\n",
       "      <td>2013</td>\n",
       "      <td>0.003070</td>\n",
       "    </tr>\n",
       "    <tr>\n",
       "      <td>3</td>\n",
       "      <td>2014</td>\n",
       "      <td>0.003092</td>\n",
       "    </tr>\n",
       "    <tr>\n",
       "      <td>4</td>\n",
       "      <td>2015</td>\n",
       "      <td>0.003150</td>\n",
       "    </tr>\n",
       "    <tr>\n",
       "      <td>5</td>\n",
       "      <td>2016</td>\n",
       "      <td>0.003159</td>\n",
       "    </tr>\n",
       "  </tbody>\n",
       "</table>\n",
       "</div>"
      ],
      "text/plain": [
       "    Año     Ratio\n",
       "0  2011  0.002733\n",
       "1  2012  0.002952\n",
       "2  2013  0.003070\n",
       "3  2014  0.003092\n",
       "4  2015  0.003150\n",
       "5  2016  0.003159"
      ]
     },
     "execution_count": 11,
     "metadata": {},
     "output_type": "execute_result"
    }
   ],
   "source": [
    "bcn_ano[['Año','Ratio']]"
   ]
  },
  {
   "cell_type": "code",
   "execution_count": 12,
   "metadata": {
    "scrolled": true
   },
   "outputs": [
    {
     "data": {
      "application/vnd.plotly.v1+json": {
       "config": {
        "linkText": "Export to plot.ly",
        "plotlyServerURL": "https://plot.ly",
        "showLink": true
       },
       "data": [
        {
         "line": {
          "color": "rgba(128, 0, 128, 1.0)",
          "dash": "solid",
          "shape": "linear",
          "width": 1.3
         },
         "mode": "lines",
         "name": "Ratio",
         "text": "",
         "type": "scatter",
         "uid": "8d497ba0-14d1-4363-9238-094e1568f603",
         "x": [
          2011,
          2012,
          2013,
          2014,
          2015,
          2016
         ],
         "y": [
          0.002732895316253799,
          0.0029524223738383094,
          0.003070280435679703,
          0.003091722270691608,
          0.0031500173010288097,
          0.0031586177122784986
         ]
        }
       ],
       "layout": {
        "legend": {
         "bgcolor": "#F5F6F9",
         "font": {
          "color": "#4D5663"
         }
        },
        "paper_bgcolor": "#F5F6F9",
        "plot_bgcolor": "#F5F6F9",
        "title": {
         "font": {
          "color": "#4D5663"
         },
         "text": "Numero de accidentes por año"
        },
        "xaxis": {
         "gridcolor": "#E1E5ED",
         "showgrid": true,
         "tickfont": {
          "color": "#4D5663"
         },
         "title": {
          "font": {
           "color": "#4D5663"
          },
          "text": "Años"
         },
         "zerolinecolor": "#E1E5ED"
        },
        "yaxis": {
         "gridcolor": "#E1E5ED",
         "showgrid": true,
         "tickfont": {
          "color": "#4D5663"
         },
         "title": {
          "font": {
           "color": "#4D5663"
          },
          "text": "Ratio accidentes por nº de vehiculos"
         },
         "zerolinecolor": "#E1E5ED"
        }
       }
      },
      "text/html": [
       "<div>\n",
       "        \n",
       "        \n",
       "            <div id=\"4780c74c-f13d-414b-a076-9ec67999e535\" class=\"plotly-graph-div\" style=\"height:525px; width:100%;\"></div>\n",
       "            <script type=\"text/javascript\">\n",
       "                require([\"plotly\"], function(Plotly) {\n",
       "                    window.PLOTLYENV=window.PLOTLYENV || {};\n",
       "                    window.PLOTLYENV.BASE_URL='https://plot.ly';\n",
       "                    \n",
       "                if (document.getElementById(\"4780c74c-f13d-414b-a076-9ec67999e535\")) {\n",
       "                    Plotly.newPlot(\n",
       "                        '4780c74c-f13d-414b-a076-9ec67999e535',\n",
       "                        [{\"line\": {\"color\": \"rgba(128, 0, 128, 1.0)\", \"dash\": \"solid\", \"shape\": \"linear\", \"width\": 1.3}, \"mode\": \"lines\", \"name\": \"Ratio\", \"text\": \"\", \"type\": \"scatter\", \"uid\": \"8d497ba0-14d1-4363-9238-094e1568f603\", \"x\": [2011, 2012, 2013, 2014, 2015, 2016], \"y\": [0.002732895316253799, 0.0029524223738383094, 0.003070280435679703, 0.003091722270691608, 0.0031500173010288097, 0.0031586177122784986]}],\n",
       "                        {\"legend\": {\"bgcolor\": \"#F5F6F9\", \"font\": {\"color\": \"#4D5663\"}}, \"paper_bgcolor\": \"#F5F6F9\", \"plot_bgcolor\": \"#F5F6F9\", \"title\": {\"font\": {\"color\": \"#4D5663\"}, \"text\": \"Numero de accidentes por a\\u00f1o\"}, \"xaxis\": {\"gridcolor\": \"#E1E5ED\", \"showgrid\": true, \"tickfont\": {\"color\": \"#4D5663\"}, \"title\": {\"font\": {\"color\": \"#4D5663\"}, \"text\": \"A\\u00f1os\"}, \"zerolinecolor\": \"#E1E5ED\"}, \"yaxis\": {\"gridcolor\": \"#E1E5ED\", \"showgrid\": true, \"tickfont\": {\"color\": \"#4D5663\"}, \"title\": {\"font\": {\"color\": \"#4D5663\"}, \"text\": \"Ratio accidentes por n\\u00ba de vehiculos\"}, \"zerolinecolor\": \"#E1E5ED\"}},\n",
       "                        {\"showLink\": true, \"linkText\": \"Export to plot.ly\", \"plotlyServerURL\": \"https://plot.ly\", \"responsive\": true}\n",
       "                    ).then(function(){\n",
       "                            \n",
       "var gd = document.getElementById('4780c74c-f13d-414b-a076-9ec67999e535');\n",
       "var x = new MutationObserver(function (mutations, observer) {{\n",
       "        var display = window.getComputedStyle(gd).display;\n",
       "        if (!display || display === 'none') {{\n",
       "            console.log([gd, 'removed!']);\n",
       "            Plotly.purge(gd);\n",
       "            observer.disconnect();\n",
       "        }}\n",
       "}});\n",
       "\n",
       "// Listen for the removal of the full notebook cells\n",
       "var notebookContainer = gd.closest('#notebook-container');\n",
       "if (notebookContainer) {{\n",
       "    x.observe(notebookContainer, {childList: true});\n",
       "}}\n",
       "\n",
       "// Listen for the clearing of the current output cell\n",
       "var outputEl = gd.closest('.output');\n",
       "if (outputEl) {{\n",
       "    x.observe(outputEl, {childList: true});\n",
       "}}\n",
       "\n",
       "                        })\n",
       "                };\n",
       "                });\n",
       "            </script>\n",
       "        </div>"
      ]
     },
     "metadata": {},
     "output_type": "display_data"
    }
   ],
   "source": [
    "#Mostramos una grafica de los datos:\n",
    "\n",
    "\n",
    "bcn_ano[['Año','Ratio']].iplot(kind='line', x='Año', xTitle='Años', color='purple',\n",
    "           yTitle='Ratio accidentes por nº de vehiculos', title='Numero de accidentes por año')"
   ]
  },
  {
   "cell_type": "code",
   "execution_count": 13,
   "metadata": {},
   "outputs": [],
   "source": [
    "#El ratio de accidentes por vehiculo motorizado ha aumentado más de un 15% desde el año 2011."
   ]
  },
  {
   "cell_type": "code",
   "execution_count": 14,
   "metadata": {},
   "outputs": [
    {
     "data": {
      "text/html": [
       "<div>\n",
       "<style scoped>\n",
       "    .dataframe tbody tr th:only-of-type {\n",
       "        vertical-align: middle;\n",
       "    }\n",
       "\n",
       "    .dataframe tbody tr th {\n",
       "        vertical-align: top;\n",
       "    }\n",
       "\n",
       "    .dataframe thead th {\n",
       "        text-align: right;\n",
       "    }\n",
       "</style>\n",
       "<table border=\"1\" class=\"dataframe\">\n",
       "  <thead>\n",
       "    <tr style=\"text-align: right;\">\n",
       "      <th></th>\n",
       "      <th>Dia_Semana</th>\n",
       "      <th>Numero_accidentes</th>\n",
       "    </tr>\n",
       "  </thead>\n",
       "  <tbody>\n",
       "    <tr>\n",
       "      <td>1</td>\n",
       "      <td>Dilluns</td>\n",
       "      <td>10234</td>\n",
       "    </tr>\n",
       "    <tr>\n",
       "      <td>2</td>\n",
       "      <td>Dimarts</td>\n",
       "      <td>10389</td>\n",
       "    </tr>\n",
       "    <tr>\n",
       "      <td>3</td>\n",
       "      <td>Dimecres</td>\n",
       "      <td>10958</td>\n",
       "    </tr>\n",
       "    <tr>\n",
       "      <td>0</td>\n",
       "      <td>Dijous</td>\n",
       "      <td>11144</td>\n",
       "    </tr>\n",
       "    <tr>\n",
       "      <td>6</td>\n",
       "      <td>Divendres</td>\n",
       "      <td>11913</td>\n",
       "    </tr>\n",
       "    <tr>\n",
       "      <td>4</td>\n",
       "      <td>Dissabte</td>\n",
       "      <td>7622</td>\n",
       "    </tr>\n",
       "    <tr>\n",
       "      <td>5</td>\n",
       "      <td>Diumenge</td>\n",
       "      <td>5715</td>\n",
       "    </tr>\n",
       "  </tbody>\n",
       "</table>\n",
       "</div>"
      ],
      "text/plain": [
       "  Dia_Semana  Numero_accidentes\n",
       "1    Dilluns              10234\n",
       "2    Dimarts              10389\n",
       "3   Dimecres              10958\n",
       "0     Dijous              11144\n",
       "6  Divendres              11913\n",
       "4   Dissabte               7622\n",
       "5   Diumenge               5715"
      ]
     },
     "execution_count": 14,
     "metadata": {},
     "output_type": "execute_result"
    }
   ],
   "source": [
    "#Ahora valoramos el numero de accidentes en funcion de los dias de la semana:\n",
    "\n",
    "#Comenzamos por analizar los datos por distrito:\n",
    "bcn_dia = bcn.groupby(['Dia_Semana'],as_index = False).agg({'Numero_Expediente':'count'})\n",
    "bcn_dia = bcn_dia.rename(columns={'Numero_Expediente': 'Numero_accidentes'})\n",
    "\n",
    "#Ordenamos por los dias de la semana:\n",
    "sorterIndex = dict(zip(['Dilluns','Dimarts','Dimecres','Dijous','Divendres','Dissabte','Diumenge'],range(7)))\n",
    "\n",
    "bcn_dia['order'] = bcn_dia['Dia_Semana'].map(sorterIndex)\n",
    "\n",
    "bcn_dia = bcn_dia.sort_values(by=['order'])\n",
    "bcn_dia.drop('order', 1, inplace = True)\n",
    "bcn_dia\n",
    "\n"
   ]
  },
  {
   "cell_type": "code",
   "execution_count": 15,
   "metadata": {},
   "outputs": [
    {
     "data": {
      "application/vnd.plotly.v1+json": {
       "config": {
        "linkText": "Export to plot.ly",
        "plotlyServerURL": "https://plot.ly",
        "showLink": true
       },
       "data": [
        {
         "marker": {
          "color": "rgba(165, 42, 42, 0.6)",
          "line": {
           "color": "rgba(165, 42, 42, 1.0)",
           "width": 1
          }
         },
         "name": "Numero_accidentes",
         "orientation": "v",
         "text": "",
         "type": "bar",
         "uid": "f4a4775b-1df2-45ab-8b43-3ef63fd59d94",
         "x": [
          "Dilluns",
          "Dimarts",
          "Dimecres",
          "Dijous",
          "Divendres",
          "Dissabte",
          "Diumenge"
         ],
         "y": [
          10234,
          10389,
          10958,
          11144,
          11913,
          7622,
          5715
         ]
        }
       ],
       "layout": {
        "legend": {
         "bgcolor": "#F5F6F9",
         "font": {
          "color": "#4D5663"
         }
        },
        "paper_bgcolor": "#F5F6F9",
        "plot_bgcolor": "#F5F6F9",
        "title": {
         "font": {
          "color": "#4D5663"
         },
         "text": "Accidentes por dia de la semana"
        },
        "xaxis": {
         "gridcolor": "#E1E5ED",
         "showgrid": true,
         "tickfont": {
          "color": "#4D5663"
         },
         "title": {
          "font": {
           "color": "#4D5663"
          },
          "text": "Dia"
         },
         "zerolinecolor": "#E1E5ED"
        },
        "yaxis": {
         "gridcolor": "#E1E5ED",
         "showgrid": true,
         "tickfont": {
          "color": "#4D5663"
         },
         "title": {
          "font": {
           "color": "#4D5663"
          },
          "text": "Numero de accidentes"
         },
         "zerolinecolor": "#E1E5ED"
        }
       }
      },
      "text/html": [
       "<div>\n",
       "        \n",
       "        \n",
       "            <div id=\"7aafde06-31b5-4683-ac6a-8dc1ec36733d\" class=\"plotly-graph-div\" style=\"height:525px; width:100%;\"></div>\n",
       "            <script type=\"text/javascript\">\n",
       "                require([\"plotly\"], function(Plotly) {\n",
       "                    window.PLOTLYENV=window.PLOTLYENV || {};\n",
       "                    window.PLOTLYENV.BASE_URL='https://plot.ly';\n",
       "                    \n",
       "                if (document.getElementById(\"7aafde06-31b5-4683-ac6a-8dc1ec36733d\")) {\n",
       "                    Plotly.newPlot(\n",
       "                        '7aafde06-31b5-4683-ac6a-8dc1ec36733d',\n",
       "                        [{\"marker\": {\"color\": \"rgba(165, 42, 42, 0.6)\", \"line\": {\"color\": \"rgba(165, 42, 42, 1.0)\", \"width\": 1}}, \"name\": \"Numero_accidentes\", \"orientation\": \"v\", \"text\": \"\", \"type\": \"bar\", \"uid\": \"f4a4775b-1df2-45ab-8b43-3ef63fd59d94\", \"x\": [\"Dilluns\", \"Dimarts\", \"Dimecres\", \"Dijous\", \"Divendres\", \"Dissabte\", \"Diumenge\"], \"y\": [10234, 10389, 10958, 11144, 11913, 7622, 5715]}],\n",
       "                        {\"legend\": {\"bgcolor\": \"#F5F6F9\", \"font\": {\"color\": \"#4D5663\"}}, \"paper_bgcolor\": \"#F5F6F9\", \"plot_bgcolor\": \"#F5F6F9\", \"title\": {\"font\": {\"color\": \"#4D5663\"}, \"text\": \"Accidentes por dia de la semana\"}, \"xaxis\": {\"gridcolor\": \"#E1E5ED\", \"showgrid\": true, \"tickfont\": {\"color\": \"#4D5663\"}, \"title\": {\"font\": {\"color\": \"#4D5663\"}, \"text\": \"Dia\"}, \"zerolinecolor\": \"#E1E5ED\"}, \"yaxis\": {\"gridcolor\": \"#E1E5ED\", \"showgrid\": true, \"tickfont\": {\"color\": \"#4D5663\"}, \"title\": {\"font\": {\"color\": \"#4D5663\"}, \"text\": \"Numero de accidentes\"}, \"zerolinecolor\": \"#E1E5ED\"}},\n",
       "                        {\"showLink\": true, \"linkText\": \"Export to plot.ly\", \"plotlyServerURL\": \"https://plot.ly\", \"responsive\": true}\n",
       "                    ).then(function(){\n",
       "                            \n",
       "var gd = document.getElementById('7aafde06-31b5-4683-ac6a-8dc1ec36733d');\n",
       "var x = new MutationObserver(function (mutations, observer) {{\n",
       "        var display = window.getComputedStyle(gd).display;\n",
       "        if (!display || display === 'none') {{\n",
       "            console.log([gd, 'removed!']);\n",
       "            Plotly.purge(gd);\n",
       "            observer.disconnect();\n",
       "        }}\n",
       "}});\n",
       "\n",
       "// Listen for the removal of the full notebook cells\n",
       "var notebookContainer = gd.closest('#notebook-container');\n",
       "if (notebookContainer) {{\n",
       "    x.observe(notebookContainer, {childList: true});\n",
       "}}\n",
       "\n",
       "// Listen for the clearing of the current output cell\n",
       "var outputEl = gd.closest('.output');\n",
       "if (outputEl) {{\n",
       "    x.observe(outputEl, {childList: true});\n",
       "}}\n",
       "\n",
       "                        })\n",
       "                };\n",
       "                });\n",
       "            </script>\n",
       "        </div>"
      ]
     },
     "metadata": {},
     "output_type": "display_data"
    }
   ],
   "source": [
    "#Mostramos una grafica de los datos:\n",
    "bcn_dia.iplot(kind='bar', x='Dia_Semana', xTitle='Dia', color='brown',\n",
    "           yTitle='Numero de accidentes', title='Accidentes por dia de la semana')"
   ]
  },
  {
   "cell_type": "code",
   "execution_count": 16,
   "metadata": {},
   "outputs": [
    {
     "data": {
      "text/html": [
       "<div>\n",
       "<style scoped>\n",
       "    .dataframe tbody tr th:only-of-type {\n",
       "        vertical-align: middle;\n",
       "    }\n",
       "\n",
       "    .dataframe tbody tr th {\n",
       "        vertical-align: top;\n",
       "    }\n",
       "\n",
       "    .dataframe thead th {\n",
       "        text-align: right;\n",
       "    }\n",
       "</style>\n",
       "<table border=\"1\" class=\"dataframe\">\n",
       "  <thead>\n",
       "    <tr style=\"text-align: right;\">\n",
       "      <th>Gravedad del conductor</th>\n",
       "      <th>Ferit greu</th>\n",
       "      <th>Ferit lleu</th>\n",
       "      <th>Mort</th>\n",
       "    </tr>\n",
       "    <tr>\n",
       "      <th>Tipo de vehiculo</th>\n",
       "      <th></th>\n",
       "      <th></th>\n",
       "      <th></th>\n",
       "    </tr>\n",
       "  </thead>\n",
       "  <tbody>\n",
       "    <tr>\n",
       "      <td>Autobús</td>\n",
       "      <td>0</td>\n",
       "      <td>89</td>\n",
       "      <td>0</td>\n",
       "    </tr>\n",
       "    <tr>\n",
       "      <td>Bicicleta</td>\n",
       "      <td>69</td>\n",
       "      <td>2910</td>\n",
       "      <td>6</td>\n",
       "    </tr>\n",
       "    <tr>\n",
       "      <td>Camión</td>\n",
       "      <td>3</td>\n",
       "      <td>148</td>\n",
       "      <td>0</td>\n",
       "    </tr>\n",
       "    <tr>\n",
       "      <td>Ciclomotor</td>\n",
       "      <td>99</td>\n",
       "      <td>6046</td>\n",
       "      <td>6</td>\n",
       "    </tr>\n",
       "    <tr>\n",
       "      <td>Furgoneta</td>\n",
       "      <td>3</td>\n",
       "      <td>785</td>\n",
       "      <td>0</td>\n",
       "    </tr>\n",
       "    <tr>\n",
       "      <td>Maquinaria de obras</td>\n",
       "      <td>0</td>\n",
       "      <td>2</td>\n",
       "      <td>0</td>\n",
       "    </tr>\n",
       "    <tr>\n",
       "      <td>Motocicleta</td>\n",
       "      <td>647</td>\n",
       "      <td>26752</td>\n",
       "      <td>74</td>\n",
       "    </tr>\n",
       "    <tr>\n",
       "      <td>Otros vehíc. a motor</td>\n",
       "      <td>3</td>\n",
       "      <td>31</td>\n",
       "      <td>0</td>\n",
       "    </tr>\n",
       "    <tr>\n",
       "      <td>Taxi</td>\n",
       "      <td>1</td>\n",
       "      <td>1063</td>\n",
       "      <td>1</td>\n",
       "    </tr>\n",
       "    <tr>\n",
       "      <td>Tranvía o tren</td>\n",
       "      <td>0</td>\n",
       "      <td>7</td>\n",
       "      <td>0</td>\n",
       "    </tr>\n",
       "    <tr>\n",
       "      <td>Turismo</td>\n",
       "      <td>30</td>\n",
       "      <td>8120</td>\n",
       "      <td>9</td>\n",
       "    </tr>\n",
       "  </tbody>\n",
       "</table>\n",
       "</div>"
      ],
      "text/plain": [
       "Gravedad del conductor  Ferit greu  Ferit lleu  Mort\n",
       "Tipo de vehiculo                                    \n",
       "Autobús                          0          89     0\n",
       "Bicicleta                       69        2910     6\n",
       "Camión                           3         148     0\n",
       "Ciclomotor                      99        6046     6\n",
       "Furgoneta                        3         785     0\n",
       "Maquinaria de obras              0           2     0\n",
       "Motocicleta                    647       26752    74\n",
       "Otros vehíc. a motor             3          31     0\n",
       "Taxi                             1        1063     1\n",
       "Tranvía o tren                   0           7     0\n",
       "Turismo                         30        8120     9"
      ]
     },
     "execution_count": 16,
     "metadata": {},
     "output_type": "execute_result"
    }
   ],
   "source": [
    "#Ahora buscaremos correlaciones entre diferentes variables categoricas.\n",
    "#Empezamos por Tipo de vehiculo Vs Gravedad victima\n",
    "#Antes filtramos por conductores:\n",
    "\n",
    "bcn_cond = bcn.loc[bcn['Tipo_Persona'] == 'Conductor']\n",
    "\n",
    "#Hacemos la tabla de correlaciones:\n",
    "cross_tab = pd.crosstab(bcn_cond.Tipo_Vehiculo, bcn_cond.Gravedad_Victima, rownames=['Tipo de vehiculo'], colnames=['Gravedad del conductor'])\n",
    "cross_tab"
   ]
  },
  {
   "cell_type": "code",
   "execution_count": 17,
   "metadata": {},
   "outputs": [],
   "source": [
    "#Ahora vamos a comparar que tipo de vehiculo sufre más accidentes.\n",
    "#Lo primero es, en la tabla de accidentes dejar los mismos tipos de vehiculos que la de parque movil.\n",
    "\n",
    "bcn_vehicles = bcn.copy()\n",
    "bcn_vehicles.loc[bcn_vehicles['Tipo_Vehiculo'] == 'Turismo', 'Tipo_Vehiculo'] = \"Turismos\"\n",
    "bcn_vehicles.loc[bcn_vehicles['Tipo_Vehiculo'] == 'Taxi', 'Tipo_Vehiculo'] = \"Turismos\"\n",
    "bcn_vehicles.loc[bcn_vehicles['Tipo_Vehiculo'] == 'Autobús', 'Tipo_Vehiculo'] = \"Autobuses\"\n",
    "bcn_vehicles.loc[bcn_vehicles['Tipo_Vehiculo'] == 'Motocicleta', 'Tipo_Vehiculo'] = \"Motocicletas\"\n",
    "bcn_vehicles.loc[bcn_vehicles['Tipo_Vehiculo'] == 'Camión', 'Tipo_Vehiculo'] = \"Camiones\"\n",
    "bcn_vehicles.loc[bcn_vehicles['Tipo_Vehiculo'] == 'Furgoneta', 'Tipo_Vehiculo'] = \"Camiones\"\n",
    "bcn_vehicles.loc[bcn_vehicles['Tipo_Vehiculo'] == 'Maquinaria de obras', 'Tipo_Vehiculo'] = \"Tractores industriales\"\n",
    "bcn_vehicles.loc[bcn_vehicles['Tipo_Vehiculo'] == 'Ciclomotor', 'Tipo_Vehiculo'] = \"Ciclomotores\"\n",
    "bcn_vehicles.loc[bcn_vehicles['Tipo_Vehiculo'] == 'Otros vehíc. a motor', 'Tipo_Vehiculo'] = \"Otros\"\n",
    "bcn_vehicles.loc[bcn_vehicles['Tipo_Vehiculo'] == 'Tranvía o tren', 'Tipo_Vehiculo'] = \"Otros\"\n",
    "bcn_vehicles.loc[bcn_vehicles['Tipo_Vehiculo'] == 'Bicicleta', 'Tipo_Vehiculo'] = \"Otros\"\n",
    "\n",
    "\n",
    "bcn_vehicles_acc = bcn_vehicles.groupby(['Tipo_Vehiculo'],as_index = False).agg({'Numero_Expediente':'count'})\n",
    "bcn_vehicles_acc = bcn_vehicles_acc.rename(columns={'Numero_Expediente': 'Numero_accidentes'})\n",
    "\n",
    "#Ahora añadimos el numero de vehiculos en el parque movil de cada tipo.\n",
    "#Para simplificar pondremos la media de todos los años\n",
    "\n",
    "tipos_vehiculo = ['Turismos','Autobuses','Motocicletas','Camiones','Tractores industriales','Ciclomotores','Otros']\n",
    "for vehicle in tipos_vehiculo:\n",
    "    bcn_vehicles_acc.loc[bcn_vehicles_acc['Tipo_Vehiculo'] == vehicle, 'Numero_Vehiculos'] = parque_BCN[vehicle].mean()\n",
    "    bcn_vehicles_acc.loc[bcn_vehicles_acc['Tipo_Vehiculo'] == vehicle, 'Ratio'] = bcn_vehicles_acc['Numero_accidentes']/bcn_vehicles_acc['Numero_Vehiculos']\n"
   ]
  },
  {
   "cell_type": "code",
   "execution_count": 18,
   "metadata": {},
   "outputs": [
    {
     "data": {
      "text/html": [
       "<div>\n",
       "<style scoped>\n",
       "    .dataframe tbody tr th:only-of-type {\n",
       "        vertical-align: middle;\n",
       "    }\n",
       "\n",
       "    .dataframe tbody tr th {\n",
       "        vertical-align: top;\n",
       "    }\n",
       "\n",
       "    .dataframe thead th {\n",
       "        text-align: right;\n",
       "    }\n",
       "</style>\n",
       "<table border=\"1\" class=\"dataframe\">\n",
       "  <thead>\n",
       "    <tr style=\"text-align: right;\">\n",
       "      <th></th>\n",
       "      <th>Tipo_Vehiculo</th>\n",
       "      <th>Numero_accidentes</th>\n",
       "      <th>Numero_Vehiculos</th>\n",
       "      <th>Ratio</th>\n",
       "    </tr>\n",
       "  </thead>\n",
       "  <tbody>\n",
       "    <tr>\n",
       "      <td>0</td>\n",
       "      <td>Autobuses</td>\n",
       "      <td>2778</td>\n",
       "      <td>5.985667e+03</td>\n",
       "      <td>0.464109</td>\n",
       "    </tr>\n",
       "    <tr>\n",
       "      <td>1</td>\n",
       "      <td>Camiones</td>\n",
       "      <td>2145</td>\n",
       "      <td>4.963642e+05</td>\n",
       "      <td>0.004321</td>\n",
       "    </tr>\n",
       "    <tr>\n",
       "      <td>2</td>\n",
       "      <td>Ciclomotores</td>\n",
       "      <td>7276</td>\n",
       "      <td>1.918687e+05</td>\n",
       "      <td>0.037922</td>\n",
       "    </tr>\n",
       "    <tr>\n",
       "      <td>3</td>\n",
       "      <td>Motocicletas</td>\n",
       "      <td>32324</td>\n",
       "      <td>5.527872e+05</td>\n",
       "      <td>0.058475</td>\n",
       "    </tr>\n",
       "    <tr>\n",
       "      <td>4</td>\n",
       "      <td>Otros</td>\n",
       "      <td>3863</td>\n",
       "      <td>9.364833e+04</td>\n",
       "      <td>0.041250</td>\n",
       "    </tr>\n",
       "    <tr>\n",
       "      <td>5</td>\n",
       "      <td>Tractores industriales</td>\n",
       "      <td>11</td>\n",
       "      <td>1.468417e+04</td>\n",
       "      <td>0.000749</td>\n",
       "    </tr>\n",
       "    <tr>\n",
       "      <td>6</td>\n",
       "      <td>Turismos</td>\n",
       "      <td>19578</td>\n",
       "      <td>2.388783e+06</td>\n",
       "      <td>0.008196</td>\n",
       "    </tr>\n",
       "  </tbody>\n",
       "</table>\n",
       "</div>"
      ],
      "text/plain": [
       "            Tipo_Vehiculo  Numero_accidentes  Numero_Vehiculos     Ratio\n",
       "0               Autobuses               2778      5.985667e+03  0.464109\n",
       "1                Camiones               2145      4.963642e+05  0.004321\n",
       "2            Ciclomotores               7276      1.918687e+05  0.037922\n",
       "3            Motocicletas              32324      5.527872e+05  0.058475\n",
       "4                   Otros               3863      9.364833e+04  0.041250\n",
       "5  Tractores industriales                 11      1.468417e+04  0.000749\n",
       "6                Turismos              19578      2.388783e+06  0.008196"
      ]
     },
     "execution_count": 18,
     "metadata": {},
     "output_type": "execute_result"
    }
   ],
   "source": [
    "bcn_vehicles_acc"
   ]
  },
  {
   "cell_type": "code",
   "execution_count": 19,
   "metadata": {},
   "outputs": [
    {
     "data": {
      "application/vnd.plotly.v1+json": {
       "config": {
        "linkText": "Export to plot.ly",
        "plotlyServerURL": "https://plot.ly",
        "showLink": true
       },
       "data": [
        {
         "marker": {
          "color": "rgba(255, 0, 136, 0.6)",
          "line": {
           "color": "rgba(255, 0, 136, 1.0)",
           "width": 1
          }
         },
         "name": "Ratio",
         "orientation": "v",
         "text": "",
         "type": "bar",
         "uid": "b08024a9-2b0c-4a4c-b2c0-d41017901cdc",
         "x": [
          "Autobuses",
          "Camiones",
          "Ciclomotores",
          "Motocicletas",
          "Otros",
          "Tractores industriales",
          "Turismos"
         ],
         "y": [
          0.46410870412652444,
          0.004321423954522637,
          0.0379217728793654,
          0.05847458470303369,
          0.041250066739041455,
          0.0007491061801259861,
          0.008195805716118885
         ]
        }
       ],
       "layout": {
        "legend": {
         "bgcolor": "#F5F6F9",
         "font": {
          "color": "#4D5663"
         }
        },
        "paper_bgcolor": "#F5F6F9",
        "plot_bgcolor": "#F5F6F9",
        "title": {
         "font": {
          "color": "#4D5663"
         },
         "text": "Ratio accidentes por tipo de vehiculo"
        },
        "xaxis": {
         "gridcolor": "#E1E5ED",
         "showgrid": true,
         "tickfont": {
          "color": "#4D5663"
         },
         "title": {
          "font": {
           "color": "#4D5663"
          },
          "text": "Tipo de vehiculo"
         },
         "zerolinecolor": "#E1E5ED"
        },
        "yaxis": {
         "gridcolor": "#E1E5ED",
         "showgrid": true,
         "tickfont": {
          "color": "#4D5663"
         },
         "title": {
          "font": {
           "color": "#4D5663"
          },
          "text": "Ratio de accidentes"
         },
         "zerolinecolor": "#E1E5ED"
        }
       }
      },
      "text/html": [
       "<div>\n",
       "        \n",
       "        \n",
       "            <div id=\"33a15bac-1b1d-4a77-ac2a-df429d6b5004\" class=\"plotly-graph-div\" style=\"height:525px; width:100%;\"></div>\n",
       "            <script type=\"text/javascript\">\n",
       "                require([\"plotly\"], function(Plotly) {\n",
       "                    window.PLOTLYENV=window.PLOTLYENV || {};\n",
       "                    window.PLOTLYENV.BASE_URL='https://plot.ly';\n",
       "                    \n",
       "                if (document.getElementById(\"33a15bac-1b1d-4a77-ac2a-df429d6b5004\")) {\n",
       "                    Plotly.newPlot(\n",
       "                        '33a15bac-1b1d-4a77-ac2a-df429d6b5004',\n",
       "                        [{\"marker\": {\"color\": \"rgba(255, 0, 136, 0.6)\", \"line\": {\"color\": \"rgba(255, 0, 136, 1.0)\", \"width\": 1}}, \"name\": \"Ratio\", \"orientation\": \"v\", \"text\": \"\", \"type\": \"bar\", \"uid\": \"b08024a9-2b0c-4a4c-b2c0-d41017901cdc\", \"x\": [\"Autobuses\", \"Camiones\", \"Ciclomotores\", \"Motocicletas\", \"Otros\", \"Tractores industriales\", \"Turismos\"], \"y\": [0.46410870412652444, 0.004321423954522637, 0.0379217728793654, 0.05847458470303369, 0.041250066739041455, 0.0007491061801259861, 0.008195805716118885]}],\n",
       "                        {\"legend\": {\"bgcolor\": \"#F5F6F9\", \"font\": {\"color\": \"#4D5663\"}}, \"paper_bgcolor\": \"#F5F6F9\", \"plot_bgcolor\": \"#F5F6F9\", \"title\": {\"font\": {\"color\": \"#4D5663\"}, \"text\": \"Ratio accidentes por tipo de vehiculo\"}, \"xaxis\": {\"gridcolor\": \"#E1E5ED\", \"showgrid\": true, \"tickfont\": {\"color\": \"#4D5663\"}, \"title\": {\"font\": {\"color\": \"#4D5663\"}, \"text\": \"Tipo de vehiculo\"}, \"zerolinecolor\": \"#E1E5ED\"}, \"yaxis\": {\"gridcolor\": \"#E1E5ED\", \"showgrid\": true, \"tickfont\": {\"color\": \"#4D5663\"}, \"title\": {\"font\": {\"color\": \"#4D5663\"}, \"text\": \"Ratio de accidentes\"}, \"zerolinecolor\": \"#E1E5ED\"}},\n",
       "                        {\"showLink\": true, \"linkText\": \"Export to plot.ly\", \"plotlyServerURL\": \"https://plot.ly\", \"responsive\": true}\n",
       "                    ).then(function(){\n",
       "                            \n",
       "var gd = document.getElementById('33a15bac-1b1d-4a77-ac2a-df429d6b5004');\n",
       "var x = new MutationObserver(function (mutations, observer) {{\n",
       "        var display = window.getComputedStyle(gd).display;\n",
       "        if (!display || display === 'none') {{\n",
       "            console.log([gd, 'removed!']);\n",
       "            Plotly.purge(gd);\n",
       "            observer.disconnect();\n",
       "        }}\n",
       "}});\n",
       "\n",
       "// Listen for the removal of the full notebook cells\n",
       "var notebookContainer = gd.closest('#notebook-container');\n",
       "if (notebookContainer) {{\n",
       "    x.observe(notebookContainer, {childList: true});\n",
       "}}\n",
       "\n",
       "// Listen for the clearing of the current output cell\n",
       "var outputEl = gd.closest('.output');\n",
       "if (outputEl) {{\n",
       "    x.observe(outputEl, {childList: true});\n",
       "}}\n",
       "\n",
       "                        })\n",
       "                };\n",
       "                });\n",
       "            </script>\n",
       "        </div>"
      ]
     },
     "metadata": {},
     "output_type": "display_data"
    }
   ],
   "source": [
    "#Mostramos una grafica de los datos:\n",
    "bcn_vehicles_acc.drop(['Numero_accidentes','Numero_Vehiculos'], inplace=True, axis=1)\n",
    "bcn_vehicles_acc.iplot(kind='bar', x='Tipo_Vehiculo', xTitle='Tipo de vehiculo', color='pink',\n",
    "           yTitle='Ratio de accidentes', title='Ratio accidentes por tipo de vehiculo')"
   ]
  },
  {
   "cell_type": "code",
   "execution_count": 20,
   "metadata": {},
   "outputs": [
    {
     "data": {
      "text/plain": [
       "36.67578870611448"
      ]
     },
     "execution_count": 20,
     "metadata": {},
     "output_type": "execute_result"
    }
   ],
   "source": [
    "#Ahora plantearemos un test de hipotesis.\n",
    "#¿La edad media de los conductores accidentados es mayor de X?\n",
    "\n",
    "#Solo tenemos la sample de los accidentes en Barcelona. Sacamos la media de edad de los conductores:\n",
    "#Primero quitamos los valores -1000 que habiamos asignado a los \"Desconocidos\"\n",
    "bcn_edad_cond = bcn_cond.loc[bcn_cond['Edad'] >=-10]\n",
    "edad_media = bcn_edad_cond['Edad'].mean()\n",
    "edad_media\n"
   ]
  },
  {
   "cell_type": "code",
   "execution_count": 21,
   "metadata": {},
   "outputs": [
    {
     "data": {
      "text/plain": [
       "Ttest_1sampResult(statistic=3.0839275137901154, pvalue=0.0020440672080618027)"
      ]
     },
     "execution_count": 21,
     "metadata": {},
     "output_type": "execute_result"
    }
   ],
   "source": [
    "from scipy.stats import ttest_1samp\n",
    "\n",
    "ttest_1samp(bcn_edad_cond['Edad'], 36.5)"
   ]
  },
  {
   "cell_type": "code",
   "execution_count": 22,
   "metadata": {},
   "outputs": [],
   "source": [
    "#Como el P-Value es menor que alpha/2 (0.025), podemos descartar que la edad media sea menor de 36.5 años.\n",
    "#Luego pueddo afirmar con un 95% de confianza que es mayor :D"
   ]
  },
  {
   "cell_type": "code",
   "execution_count": 23,
   "metadata": {},
   "outputs": [
    {
     "data": {
      "text/html": [
       "<div>\n",
       "<style scoped>\n",
       "    .dataframe tbody tr th:only-of-type {\n",
       "        vertical-align: middle;\n",
       "    }\n",
       "\n",
       "    .dataframe tbody tr th {\n",
       "        vertical-align: top;\n",
       "    }\n",
       "\n",
       "    .dataframe thead th {\n",
       "        text-align: right;\n",
       "    }\n",
       "</style>\n",
       "<table border=\"1\" class=\"dataframe\">\n",
       "  <thead>\n",
       "    <tr style=\"text-align: right;\">\n",
       "      <th></th>\n",
       "      <th>Año</th>\n",
       "      <th>Numero_accidentes</th>\n",
       "      <th>Total</th>\n",
       "    </tr>\n",
       "  </thead>\n",
       "  <tbody>\n",
       "    <tr>\n",
       "      <td>0</td>\n",
       "      <td>2011</td>\n",
       "      <td>10296</td>\n",
       "      <td>3767433</td>\n",
       "    </tr>\n",
       "    <tr>\n",
       "      <td>1</td>\n",
       "      <td>2012</td>\n",
       "      <td>11065</td>\n",
       "      <td>3747770</td>\n",
       "    </tr>\n",
       "    <tr>\n",
       "      <td>2</td>\n",
       "      <td>2013</td>\n",
       "      <td>11376</td>\n",
       "      <td>3705199</td>\n",
       "    </tr>\n",
       "    <tr>\n",
       "      <td>3</td>\n",
       "      <td>2014</td>\n",
       "      <td>11386</td>\n",
       "      <td>3682737</td>\n",
       "    </tr>\n",
       "    <tr>\n",
       "      <td>4</td>\n",
       "      <td>2015</td>\n",
       "      <td>11780</td>\n",
       "      <td>3739662</td>\n",
       "    </tr>\n",
       "    <tr>\n",
       "      <td>5</td>\n",
       "      <td>2016</td>\n",
       "      <td>12072</td>\n",
       "      <td>3821925</td>\n",
       "    </tr>\n",
       "  </tbody>\n",
       "</table>\n",
       "</div>"
      ],
      "text/plain": [
       "    Año  Numero_accidentes    Total\n",
       "0  2011              10296  3767433\n",
       "1  2012              11065  3747770\n",
       "2  2013              11376  3705199\n",
       "3  2014              11386  3682737\n",
       "4  2015              11780  3739662\n",
       "5  2016              12072  3821925"
      ]
     },
     "execution_count": 23,
     "metadata": {},
     "output_type": "execute_result"
    }
   ],
   "source": [
    "#Vamos a estudiar si el numero de accidentes y el parque movil cada año tiene algun tipo de relación (lineal, cuadratica...)\n",
    "\n",
    "bcn_acc_parque = bcn.groupby(['Año'],as_index = False).agg({'Numero_Expediente':'count'})\n",
    "bcn_acc_parque = bcn_acc_parque.rename(columns={'Numero_Expediente': 'Numero_accidentes'})\n",
    "\n",
    "bcn_acc_parque = bcn_acc_parque.join(parque_BCN['Total'])\n",
    "\n",
    "bcn_acc_parque"
   ]
  },
  {
   "cell_type": "code",
   "execution_count": 27,
   "metadata": {},
   "outputs": [
    {
     "data": {
      "application/vnd.plotly.v1+json": {
       "config": {
        "linkText": "Export to plot.ly",
        "plotlyServerURL": "https://plot.ly",
        "showLink": true
       },
       "data": [
        {
         "marker": {
          "color": "rgba(255, 153, 51, 1.0)",
          "line": {
           "width": 1.3
          },
          "opacity": 0.8,
          "size": 12,
          "symbol": "circle"
         },
         "mode": "markers",
         "name": "2011",
         "textfont": {
          "color": "#4D5663"
         },
         "type": "scatter",
         "uid": "54e8e3df-092d-4644-af6a-bc3251733b94",
         "x": [
          10296
         ],
         "y": [
          3767433
         ]
        },
        {
         "marker": {
          "color": "rgba(55, 128, 191, 1.0)",
          "line": {
           "width": 1.3
          },
          "opacity": 0.8,
          "size": 12,
          "symbol": "circle"
         },
         "mode": "markers",
         "name": "2012",
         "textfont": {
          "color": "#4D5663"
         },
         "type": "scatter",
         "uid": "00aa7615-6205-46f3-a410-1d8e7afc9502",
         "x": [
          11065
         ],
         "y": [
          3747770
         ]
        },
        {
         "marker": {
          "color": "rgba(50, 171, 96, 1.0)",
          "line": {
           "width": 1.3
          },
          "opacity": 0.8,
          "size": 12,
          "symbol": "circle"
         },
         "mode": "markers",
         "name": "2013",
         "textfont": {
          "color": "#4D5663"
         },
         "type": "scatter",
         "uid": "ac8eca48-976c-468e-9d51-e02838bc0e29",
         "x": [
          11376
         ],
         "y": [
          3705199
         ]
        },
        {
         "marker": {
          "color": "rgba(128, 0, 128, 1.0)",
          "line": {
           "width": 1.3
          },
          "opacity": 0.8,
          "size": 12,
          "symbol": "circle"
         },
         "mode": "markers",
         "name": "2014",
         "textfont": {
          "color": "#4D5663"
         },
         "type": "scatter",
         "uid": "8f9a85db-0907-4f6c-8949-857c41738d54",
         "x": [
          11386
         ],
         "y": [
          3682737
         ]
        },
        {
         "marker": {
          "color": "rgba(219, 64, 82, 1.0)",
          "line": {
           "width": 1.3
          },
          "opacity": 0.8,
          "size": 12,
          "symbol": "circle"
         },
         "mode": "markers",
         "name": "2015",
         "textfont": {
          "color": "#4D5663"
         },
         "type": "scatter",
         "uid": "937cba4f-71d9-4cec-b4a0-43af252a7be0",
         "x": [
          11780
         ],
         "y": [
          3739662
         ]
        },
        {
         "marker": {
          "color": "rgba(0, 128, 128, 1.0)",
          "line": {
           "width": 1.3
          },
          "opacity": 0.8,
          "size": 12,
          "symbol": "circle"
         },
         "mode": "markers",
         "name": "2016",
         "textfont": {
          "color": "#4D5663"
         },
         "type": "scatter",
         "uid": "58b7ae0e-342e-42e0-bc2f-44167bb38b47",
         "x": [
          12072
         ],
         "y": [
          3821925
         ]
        }
       ],
       "layout": {
        "legend": {
         "bgcolor": "#F5F6F9",
         "font": {
          "color": "#4D5663"
         }
        },
        "paper_bgcolor": "#F5F6F9",
        "plot_bgcolor": "#F5F6F9",
        "title": {
         "font": {
          "color": "#4D5663"
         },
         "text": "Relación entre el numero de accidentes y el parque movil por los 5 años estudiados"
        },
        "xaxis": {
         "gridcolor": "#E1E5ED",
         "showgrid": true,
         "tickfont": {
          "color": "#4D5663"
         },
         "title": {
          "font": {
           "color": "#4D5663"
          },
          "text": "Número de accidentes"
         },
         "zerolinecolor": "#E1E5ED"
        },
        "yaxis": {
         "gridcolor": "#E1E5ED",
         "showgrid": true,
         "tickfont": {
          "color": "#4D5663"
         },
         "title": {
          "font": {
           "color": "#4D5663"
          },
          "text": "Parque movil total"
         },
         "zerolinecolor": "#E1E5ED"
        }
       }
      },
      "text/html": [
       "<div>\n",
       "        \n",
       "        \n",
       "            <div id=\"ddf37714-9bb4-436f-b4b4-f1a4bcd0495b\" class=\"plotly-graph-div\" style=\"height:525px; width:100%;\"></div>\n",
       "            <script type=\"text/javascript\">\n",
       "                require([\"plotly\"], function(Plotly) {\n",
       "                    window.PLOTLYENV=window.PLOTLYENV || {};\n",
       "                    window.PLOTLYENV.BASE_URL='https://plot.ly';\n",
       "                    \n",
       "                if (document.getElementById(\"ddf37714-9bb4-436f-b4b4-f1a4bcd0495b\")) {\n",
       "                    Plotly.newPlot(\n",
       "                        'ddf37714-9bb4-436f-b4b4-f1a4bcd0495b',\n",
       "                        [{\"marker\": {\"color\": \"rgba(255, 153, 51, 1.0)\", \"line\": {\"width\": 1.3}, \"opacity\": 0.8, \"size\": 12, \"symbol\": \"circle\"}, \"mode\": \"markers\", \"name\": \"2011\", \"textfont\": {\"color\": \"#4D5663\"}, \"type\": \"scatter\", \"uid\": \"54e8e3df-092d-4644-af6a-bc3251733b94\", \"x\": [10296], \"y\": [3767433]}, {\"marker\": {\"color\": \"rgba(55, 128, 191, 1.0)\", \"line\": {\"width\": 1.3}, \"opacity\": 0.8, \"size\": 12, \"symbol\": \"circle\"}, \"mode\": \"markers\", \"name\": \"2012\", \"textfont\": {\"color\": \"#4D5663\"}, \"type\": \"scatter\", \"uid\": \"00aa7615-6205-46f3-a410-1d8e7afc9502\", \"x\": [11065], \"y\": [3747770]}, {\"marker\": {\"color\": \"rgba(50, 171, 96, 1.0)\", \"line\": {\"width\": 1.3}, \"opacity\": 0.8, \"size\": 12, \"symbol\": \"circle\"}, \"mode\": \"markers\", \"name\": \"2013\", \"textfont\": {\"color\": \"#4D5663\"}, \"type\": \"scatter\", \"uid\": \"ac8eca48-976c-468e-9d51-e02838bc0e29\", \"x\": [11376], \"y\": [3705199]}, {\"marker\": {\"color\": \"rgba(128, 0, 128, 1.0)\", \"line\": {\"width\": 1.3}, \"opacity\": 0.8, \"size\": 12, \"symbol\": \"circle\"}, \"mode\": \"markers\", \"name\": \"2014\", \"textfont\": {\"color\": \"#4D5663\"}, \"type\": \"scatter\", \"uid\": \"8f9a85db-0907-4f6c-8949-857c41738d54\", \"x\": [11386], \"y\": [3682737]}, {\"marker\": {\"color\": \"rgba(219, 64, 82, 1.0)\", \"line\": {\"width\": 1.3}, \"opacity\": 0.8, \"size\": 12, \"symbol\": \"circle\"}, \"mode\": \"markers\", \"name\": \"2015\", \"textfont\": {\"color\": \"#4D5663\"}, \"type\": \"scatter\", \"uid\": \"937cba4f-71d9-4cec-b4a0-43af252a7be0\", \"x\": [11780], \"y\": [3739662]}, {\"marker\": {\"color\": \"rgba(0, 128, 128, 1.0)\", \"line\": {\"width\": 1.3}, \"opacity\": 0.8, \"size\": 12, \"symbol\": \"circle\"}, \"mode\": \"markers\", \"name\": \"2016\", \"textfont\": {\"color\": \"#4D5663\"}, \"type\": \"scatter\", \"uid\": \"58b7ae0e-342e-42e0-bc2f-44167bb38b47\", \"x\": [12072], \"y\": [3821925]}],\n",
       "                        {\"legend\": {\"bgcolor\": \"#F5F6F9\", \"font\": {\"color\": \"#4D5663\"}}, \"paper_bgcolor\": \"#F5F6F9\", \"plot_bgcolor\": \"#F5F6F9\", \"title\": {\"font\": {\"color\": \"#4D5663\"}, \"text\": \"Relaci\\u00f3n entre el numero de accidentes y el parque movil por los 5 a\\u00f1os estudiados\"}, \"xaxis\": {\"gridcolor\": \"#E1E5ED\", \"showgrid\": true, \"tickfont\": {\"color\": \"#4D5663\"}, \"title\": {\"font\": {\"color\": \"#4D5663\"}, \"text\": \"N\\u00famero de accidentes\"}, \"zerolinecolor\": \"#E1E5ED\"}, \"yaxis\": {\"gridcolor\": \"#E1E5ED\", \"showgrid\": true, \"tickfont\": {\"color\": \"#4D5663\"}, \"title\": {\"font\": {\"color\": \"#4D5663\"}, \"text\": \"Parque movil total\"}, \"zerolinecolor\": \"#E1E5ED\"}},\n",
       "                        {\"showLink\": true, \"linkText\": \"Export to plot.ly\", \"plotlyServerURL\": \"https://plot.ly\", \"responsive\": true}\n",
       "                    ).then(function(){\n",
       "                            \n",
       "var gd = document.getElementById('ddf37714-9bb4-436f-b4b4-f1a4bcd0495b');\n",
       "var x = new MutationObserver(function (mutations, observer) {{\n",
       "        var display = window.getComputedStyle(gd).display;\n",
       "        if (!display || display === 'none') {{\n",
       "            console.log([gd, 'removed!']);\n",
       "            Plotly.purge(gd);\n",
       "            observer.disconnect();\n",
       "        }}\n",
       "}});\n",
       "\n",
       "// Listen for the removal of the full notebook cells\n",
       "var notebookContainer = gd.closest('#notebook-container');\n",
       "if (notebookContainer) {{\n",
       "    x.observe(notebookContainer, {childList: true});\n",
       "}}\n",
       "\n",
       "// Listen for the clearing of the current output cell\n",
       "var outputEl = gd.closest('.output');\n",
       "if (outputEl) {{\n",
       "    x.observe(outputEl, {childList: true});\n",
       "}}\n",
       "\n",
       "                        })\n",
       "                };\n",
       "                });\n",
       "            </script>\n",
       "        </div>"
      ]
     },
     "metadata": {},
     "output_type": "display_data"
    }
   ],
   "source": [
    "#Convertimos la variable año a string para que no falle el gráfico:\n",
    "bcn_acc_parque['Año'] = bcn_acc_parque['Año'].astype(str)\n",
    "\n",
    "#Dibujamos un scatter plot con los diferentes ratios:\n",
    "\n",
    "bcn_acc_parque.iplot(x='Numero_accidentes', y='Total', categories='Año',\n",
    "                     xTitle='Número de accidentes', yTitle='Parque movil total', \n",
    "                     title='Relación entre el numero de accidentes y el parque movil por los 5 años estudiados')"
   ]
  },
  {
   "cell_type": "code",
   "execution_count": null,
   "metadata": {},
   "outputs": [],
   "source": [
    "#No hay una relación clara entre ambas variables."
   ]
  }
 ],
 "metadata": {
  "kernelspec": {
   "display_name": "Python 3",
   "language": "python",
   "name": "python3"
  },
  "language_info": {
   "codemirror_mode": {
    "name": "ipython",
    "version": 3
   },
   "file_extension": ".py",
   "mimetype": "text/x-python",
   "name": "python",
   "nbconvert_exporter": "python",
   "pygments_lexer": "ipython3",
   "version": "3.6.8"
  }
 },
 "nbformat": 4,
 "nbformat_minor": 2
}
