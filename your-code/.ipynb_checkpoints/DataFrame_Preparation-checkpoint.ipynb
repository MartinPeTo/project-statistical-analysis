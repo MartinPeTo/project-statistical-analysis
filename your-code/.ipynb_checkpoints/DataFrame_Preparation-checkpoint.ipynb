{
 "cells": [
  {
   "cell_type": "code",
   "execution_count": 1,
   "metadata": {},
   "outputs": [],
   "source": [
    "#Importamos librerias\n",
    "import pandas as pd\n",
    "import numpy as np"
   ]
  },
  {
   "cell_type": "code",
   "execution_count": 2,
   "metadata": {},
   "outputs": [
    {
     "data": {
      "text/html": [
       "<div>\n",
       "<style scoped>\n",
       "    .dataframe tbody tr th:only-of-type {\n",
       "        vertical-align: middle;\n",
       "    }\n",
       "\n",
       "    .dataframe tbody tr th {\n",
       "        vertical-align: top;\n",
       "    }\n",
       "\n",
       "    .dataframe thead th {\n",
       "        text-align: right;\n",
       "    }\n",
       "</style>\n",
       "<table border=\"1\" class=\"dataframe\">\n",
       "  <thead>\n",
       "    <tr style=\"text-align: right;\">\n",
       "      <th></th>\n",
       "      <th>Número d'expedient</th>\n",
       "      <th>Codi districte</th>\n",
       "      <th>Nom districte</th>\n",
       "      <th>Codi barri</th>\n",
       "      <th>Nom barri</th>\n",
       "      <th>Codi carrer</th>\n",
       "      <th>Nom carrer</th>\n",
       "      <th>Num postal caption</th>\n",
       "      <th>Descripció dia setmana</th>\n",
       "      <th>Dia setmana</th>\n",
       "      <th>...</th>\n",
       "      <th>Descripció torn</th>\n",
       "      <th>Hora de dia</th>\n",
       "      <th>Descripció causa vianant</th>\n",
       "      <th>Desc. Tipus vehicle implicat</th>\n",
       "      <th>Descripció sexe</th>\n",
       "      <th>Descripció tipus persona</th>\n",
       "      <th>Edat</th>\n",
       "      <th>Descripció victimització</th>\n",
       "      <th>Coordenada UTM (Y)</th>\n",
       "      <th>Coordenada UTM (X)</th>\n",
       "    </tr>\n",
       "  </thead>\n",
       "  <tbody>\n",
       "    <tr>\n",
       "      <td>0</td>\n",
       "      <td>2011S000321</td>\n",
       "      <td>2</td>\n",
       "      <td>Eixample</td>\n",
       "      <td>7</td>\n",
       "      <td>la Dreta de l'Eixample</td>\n",
       "      <td>169409</td>\n",
       "      <td>Corts Catalanes</td>\n",
       "      <td>9998 9998</td>\n",
       "      <td>Dilluns</td>\n",
       "      <td>Dl</td>\n",
       "      <td>...</td>\n",
       "      <td>Tarda</td>\n",
       "      <td>21</td>\n",
       "      <td>No és causa del  vianant</td>\n",
       "      <td>Motocicleta</td>\n",
       "      <td>Home</td>\n",
       "      <td>Conductor</td>\n",
       "      <td>33</td>\n",
       "      <td>Ferit lleu</td>\n",
       "      <td>4582424,87</td>\n",
       "      <td>430448,19</td>\n",
       "    </tr>\n",
       "    <tr>\n",
       "      <td>1</td>\n",
       "      <td>2011S000324</td>\n",
       "      <td>9</td>\n",
       "      <td>Sant Andreu</td>\n",
       "      <td>60</td>\n",
       "      <td>Sant Andreu</td>\n",
       "      <td>170758</td>\n",
       "      <td>Josep Soldevila</td>\n",
       "      <td>0011U0011U</td>\n",
       "      <td>Dilluns</td>\n",
       "      <td>Dl</td>\n",
       "      <td>...</td>\n",
       "      <td>Tarda</td>\n",
       "      <td>20</td>\n",
       "      <td>No és causa del  vianant</td>\n",
       "      <td>Ciclomotor</td>\n",
       "      <td>Home</td>\n",
       "      <td>Conductor</td>\n",
       "      <td>19</td>\n",
       "      <td>Ferit lleu</td>\n",
       "      <td>4586818,15</td>\n",
       "      <td>432911,03</td>\n",
       "    </tr>\n",
       "    <tr>\n",
       "      <td>2</td>\n",
       "      <td>2011S000004</td>\n",
       "      <td>1</td>\n",
       "      <td>Ciutat Vella</td>\n",
       "      <td>2</td>\n",
       "      <td>el Barri Gòtic</td>\n",
       "      <td>74404</td>\n",
       "      <td>Catalunya</td>\n",
       "      <td>0020 0020</td>\n",
       "      <td>Dissabte</td>\n",
       "      <td>Ds</td>\n",
       "      <td>...</td>\n",
       "      <td>Tarda</td>\n",
       "      <td>14</td>\n",
       "      <td>Creuar per fora pas de vianants</td>\n",
       "      <td>Motocicleta</td>\n",
       "      <td>Home</td>\n",
       "      <td>Conductor</td>\n",
       "      <td>26</td>\n",
       "      <td>Ferit lleu</td>\n",
       "      <td>4582153,19</td>\n",
       "      <td>430770,60</td>\n",
       "    </tr>\n",
       "    <tr>\n",
       "      <td>3</td>\n",
       "      <td>2011S000011</td>\n",
       "      <td>9</td>\n",
       "      <td>Sant Andreu</td>\n",
       "      <td>57</td>\n",
       "      <td>la Trinitat Vella</td>\n",
       "      <td>314100</td>\n",
       "      <td>Santa Coloma</td>\n",
       "      <td>0079I0079I</td>\n",
       "      <td>Diumenge</td>\n",
       "      <td>Dg</td>\n",
       "      <td>...</td>\n",
       "      <td>Matí</td>\n",
       "      <td>6</td>\n",
       "      <td>No és causa del  vianant</td>\n",
       "      <td>Turismo</td>\n",
       "      <td>Home</td>\n",
       "      <td>Passatger</td>\n",
       "      <td>22</td>\n",
       "      <td>Ferit lleu</td>\n",
       "      <td>4588967,90</td>\n",
       "      <td>432787,54</td>\n",
       "    </tr>\n",
       "    <tr>\n",
       "      <td>4</td>\n",
       "      <td>2011S000013</td>\n",
       "      <td>2</td>\n",
       "      <td>Eixample</td>\n",
       "      <td>8</td>\n",
       "      <td>l'Antiga Esquerra de l'Eixample</td>\n",
       "      <td>23403</td>\n",
       "      <td>Aribau</td>\n",
       "      <td>0015 0015</td>\n",
       "      <td>Diumenge</td>\n",
       "      <td>Dg</td>\n",
       "      <td>...</td>\n",
       "      <td>Nit</td>\n",
       "      <td>4</td>\n",
       "      <td>No és causa del  vianant</td>\n",
       "      <td>Taxi</td>\n",
       "      <td>Home</td>\n",
       "      <td>Conductor</td>\n",
       "      <td>29</td>\n",
       "      <td>Ferit lleu</td>\n",
       "      <td>4582217,31</td>\n",
       "      <td>429990,57</td>\n",
       "    </tr>\n",
       "  </tbody>\n",
       "</table>\n",
       "<p>5 rows × 25 columns</p>\n",
       "</div>"
      ],
      "text/plain": [
       "  Número d'expedient  Codi districte Nom districte  Codi barri  \\\n",
       "0    2011S000321                   2      Eixample           7   \n",
       "1    2011S000324                   9   Sant Andreu          60   \n",
       "2    2011S000004                   1  Ciutat Vella           2   \n",
       "3    2011S000011                   9   Sant Andreu          57   \n",
       "4    2011S000013                   2      Eixample           8   \n",
       "\n",
       "                         Nom barri  Codi carrer       Nom carrer  \\\n",
       "0           la Dreta de l'Eixample       169409  Corts Catalanes   \n",
       "1                      Sant Andreu       170758  Josep Soldevila   \n",
       "2                   el Barri Gòtic        74404        Catalunya   \n",
       "3                la Trinitat Vella       314100     Santa Coloma   \n",
       "4  l'Antiga Esquerra de l'Eixample        23403           Aribau   \n",
       "\n",
       "  Num postal caption Descripció dia setmana Dia setmana  ... Descripció torn  \\\n",
       "0          9998 9998                Dilluns          Dl  ...           Tarda   \n",
       "1         0011U0011U                Dilluns          Dl  ...           Tarda   \n",
       "2          0020 0020               Dissabte          Ds  ...           Tarda   \n",
       "3         0079I0079I               Diumenge          Dg  ...            Matí   \n",
       "4          0015 0015               Diumenge          Dg  ...             Nit   \n",
       "\n",
       "   Hora de dia         Descripció causa vianant Desc. Tipus vehicle implicat  \\\n",
       "0           21         No és causa del  vianant                  Motocicleta   \n",
       "1           20         No és causa del  vianant                   Ciclomotor   \n",
       "2           14  Creuar per fora pas de vianants                  Motocicleta   \n",
       "3            6         No és causa del  vianant                      Turismo   \n",
       "4            4         No és causa del  vianant                         Taxi   \n",
       "\n",
       "   Descripció sexe Descripció tipus persona  Edat Descripció victimització  \\\n",
       "0             Home                Conductor    33               Ferit lleu   \n",
       "1             Home                Conductor    19               Ferit lleu   \n",
       "2             Home                Conductor    26               Ferit lleu   \n",
       "3             Home                Passatger    22               Ferit lleu   \n",
       "4             Home                Conductor    29               Ferit lleu   \n",
       "\n",
       "  Coordenada UTM (Y) Coordenada UTM (X)  \n",
       "0         4582424,87          430448,19  \n",
       "1         4586818,15          432911,03  \n",
       "2         4582153,19          430770,60  \n",
       "3         4588967,90          432787,54  \n",
       "4         4582217,31          429990,57  \n",
       "\n",
       "[5 rows x 25 columns]"
      ]
     },
     "execution_count": 2,
     "metadata": {},
     "output_type": "execute_result"
    }
   ],
   "source": [
    "#Cargamos el dataframe\n",
    "bcn2011 = pd.read_csv('2011_accidents.csv', encoding = 'unicode_escape')\n",
    "bcn2012 = pd.read_csv('2012_accidents.csv', encoding = 'unicode_escape')\n",
    "bcn2013 = pd.read_csv('2013_accidents.csv', encoding = 'unicode_escape')\n",
    "bcn2014 = pd.read_csv('2014_accidents.csv', encoding = 'unicode_escape')\n",
    "bcn2015 = pd.read_csv('2015_accidents.csv', encoding = 'unicode_escape')\n",
    "bcn2016 = pd.read_csv('2016_accidents.csv', encoding = 'unicode_escape')\n",
    "bcn2011.head()"
   ]
  },
  {
   "cell_type": "code",
   "execution_count": 3,
   "metadata": {
    "scrolled": true
   },
   "outputs": [
    {
     "name": "stdout",
     "output_type": "stream",
     "text": [
      "(10296, 25)\n",
      "(11065, 25)\n",
      "(11376, 25)\n",
      "(11386, 24)\n",
      "(11780, 24)\n",
      "(12072, 28)\n"
     ]
    }
   ],
   "source": [
    "print(bcn2011.shape)\n",
    "print(bcn2012.shape)\n",
    "print(bcn2013.shape)\n",
    "print(bcn2014.shape)\n",
    "print(bcn2015.shape)\n",
    "print(bcn2016.shape)"
   ]
  },
  {
   "cell_type": "code",
   "execution_count": null,
   "metadata": {},
   "outputs": [],
   "source": [
    "#Los datos totales son unos 50000 por lo que podemos juntarlos en un solo dataframe.\n",
    "#El numero de columnas varía, asi que tenemos que ver cuales son las columnas que varía y comunizarlas"
   ]
  },
  {
   "cell_type": "code",
   "execution_count": null,
   "metadata": {},
   "outputs": [],
   "source": [
    "# print(bcn2011.columns)\n",
    "# print(bcn2012.columns)\n",
    "# print(bcn2013.columns)\n",
    "# print(bcn2014.columns)\n",
    "# print(bcn2015.columns)\n",
    "# print(bcn2016.columns)"
   ]
  },
  {
   "cell_type": "code",
   "execution_count": null,
   "metadata": {},
   "outputs": [],
   "source": [
    "#Las columnas añadidas parecen ser 'Lat', 'Long' y 'Descripción situacion'.\n",
    "#Ademas 2014 y 2015 no tienen la columna 'Descripcion turno'\n",
    "#Finalmente nos quedaremos con las siguientes columnas:\n",
    "#Numero de expediente, codigo distrito, nombre distrito, codigo barrio, nombre barrio, codigo calle, nombre calle\n",
    "#descripcion dia de la semana, descripcion tipo dia, año, mes, dia, hora, descripcion causa viandante, tipo vehiculo\n",
    "#Sexo, tipo de persona, edad, descripcion situacion, gravedad (20 columnas)"
   ]
  },
  {
   "cell_type": "code",
   "execution_count": null,
   "metadata": {},
   "outputs": [],
   "source": [
    "#Borramos las columnas que sobran de todos los data frame:\n",
    "drop_columns = ['Dia setmana', 'Nom mes', 'Num postal caption', 'Coordenada UTM (Y)', 'Coordenada UTM (X)']\n",
    "bcn2011.drop(drop_columns, inplace=True, axis=1)\n",
    "bcn2012.drop(drop_columns, inplace=True, axis=1)\n",
    "bcn2013.drop(drop_columns, inplace=True, axis=1)\n",
    "bcn2014.drop(drop_columns, inplace=True, axis=1)\n",
    "bcn2015.drop(drop_columns, inplace=True, axis=1)\n",
    "bcn2016.drop(drop_columns, inplace=True, axis=1)"
   ]
  },
  {
   "cell_type": "code",
   "execution_count": null,
   "metadata": {},
   "outputs": [],
   "source": [
    "#Aun tenemos que borrar algunas columnas que no estan en todos los dataframes:\n",
    "drop_columns2 = ['Long', 'Lat']\n",
    "bcn2016.drop(drop_columns2, inplace=True, axis=1)\n",
    "\n",
    "bcn2011.drop(['Descripció torn'], inplace=True, axis=1)\n",
    "bcn2012.drop(['Descripció torn'], inplace=True, axis=1)\n",
    "bcn2013.drop(['Descripció torn'], inplace=True, axis=1)\n",
    "bcn2016.drop(['DescripciÃ³ torn'], inplace=True, axis=1)\n",
    "\n",
    "#Ahora añadimos las columnas que faltan en algunos:\n",
    "bcn2011['Descripción situacion'] = np.nan\n",
    "bcn2012['Descripción situacion'] = np.nan\n",
    "bcn2013['Descripción situacion'] = np.nan\n",
    "bcn2014['Descripción situacion'] = np.nan\n",
    "bcn2015['Descripción situacion'] = np.nan"
   ]
  },
  {
   "cell_type": "code",
   "execution_count": null,
   "metadata": {},
   "outputs": [],
   "source": [
    "print(bcn2011.shape)\n",
    "print(bcn2012.shape)\n",
    "print(bcn2013.shape)\n",
    "print(bcn2014.shape)\n",
    "print(bcn2015.shape)\n",
    "print(bcn2016.shape)"
   ]
  },
  {
   "cell_type": "code",
   "execution_count": null,
   "metadata": {},
   "outputs": [],
   "source": [
    "#Finalmente tenemos todos los dataframes con la misma forma. Comprobamos que el orden es el mismo y renombramos:\n",
    "final_columns = ['Numero_Expediente', 'Codigo_Distrito', 'Nombre_Distrito', 'Codigo_Barrio',\n",
    "       'Nombre_Barrio', 'Codigo_Calle', 'Nombre_Calle', 'Dia_Semana', 'Tipo_Dia', 'Año', 'Mes',\n",
    "        'Dia', 'Hora', 'Motivo_Causa','Tipo_Vehiculo', 'Sexo', 'Edad',\n",
    "       'Tipo_Persona', 'Situacion', 'Gravedad_Victima']"
   ]
  },
  {
   "cell_type": "code",
   "execution_count": null,
   "metadata": {},
   "outputs": [],
   "source": [
    "bcn2011 = bcn2011[[\"Número d'expedient\", \"Codi districte\", 'Nom districte', 'Codi barri',\n",
    "       'Nom barri', 'Codi carrer', 'Nom carrer', 'Descripció dia setmana',\n",
    "       'Descripció tipus dia', 'NK Any', 'Mes de any', 'Dia de mes',\n",
    "       'Hora de dia', 'Descripció causa vianant',\n",
    "       'Desc. Tipus vehicle implicat', 'Descripció sexe','Edat',\n",
    "       'Descripció tipus persona', 'Descripción situacion', 'Descripció victimització']]\n",
    "\n",
    "bcn2012 = bcn2012[[\"Número d'expedient\", \"Codi districte\", 'Nom districte', 'Codi barri',\n",
    "       'Nom barri', 'Codi carrer', 'Nom carrer', 'Descripció dia setmana',\n",
    "       'Descripció tipus dia', 'NK Any', 'Mes de any', 'Dia de mes',\n",
    "       'Hora de dia', 'Descripció causa vianant',\n",
    "       'Desc. Tipus vehicle implicat', 'Descripció sexe','Edat',\n",
    "       'Descripció tipus persona', 'Descripción situacion', 'Descripció victimització']]\n",
    "\n",
    "bcn2013 = bcn2013[[\"Número d'expedient\", \"Codi districte\", 'Nom districte', 'Codi barri',\n",
    "       'Nom barri', 'Codi carrer', 'Nom carrer', 'Descripció dia setmana',\n",
    "       'Descripció tipus dia', 'NK Any', 'Mes de any', 'Dia de mes',\n",
    "       'Hora de dia', 'Descripció causa vianant',\n",
    "       'Desc. Tipus vehicle implicat', 'Descripció sexe','Edat',\n",
    "       'Descripció tipus persona', 'Descripción situacion', 'Descripció victimització']]\n",
    "\n",
    "bcn2014 = bcn2014[[\"N£mero d'expedient\", 'Codi districte', 'Nom districte', 'Codi barri',\n",
    "       'Nom barri', 'Codi carrer', 'Nom carrer', 'Descripci¢ dia setmana',\n",
    "       'Descripci¢ tipus dia', 'NK Any', 'Mes de any', 'Dia de mes',\n",
    "       'Hora de dia', 'Descripci¢ causa vianant',\n",
    "       'Desc. Tipus vehicle implicat', 'Descripci¢ sexe', 'Edat',\n",
    "       'Descripci¢ tipus persona','Descripción situacion', 'Descripci¢ victimitzaci¢']]\n",
    "\n",
    "bcn2015 = bcn2015[[\"Número d'expedient\", \"Codi districte\", 'Nom districte', 'Codi barri',\n",
    "       'Nom barri', 'Codi carrer', 'Nom carrer', 'Descripció dia setmana',\n",
    "       'Descripció tipus dia', 'NK Any', 'Mes de any', 'Dia de mes',\n",
    "       'Hora de dia', 'Descripció causa vianant',\n",
    "       'Desc. Tipus vehicle implicat', 'Descripció sexe','Edat',\n",
    "       'Descripció tipus persona', 'Descripción situacion', 'Descripció victimització']]\n",
    "\n",
    "#Ahora renombramos las columnas:\n",
    "bcn2011.columns = final_columns\n",
    "bcn2012.columns = final_columns\n",
    "bcn2013.columns = final_columns\n",
    "bcn2014.columns = final_columns\n",
    "bcn2015.columns = final_columns\n",
    "bcn2016.columns = final_columns"
   ]
  },
  {
   "cell_type": "code",
   "execution_count": null,
   "metadata": {},
   "outputs": [],
   "source": [
    "#Y por ultimo, concatenamos todos los dataframes en uno solo:\n",
    "bcn = pd.concat([bcn2011, bcn2012, bcn2013, bcn2014, bcn2015, bcn2016], ignore_index=True, sort =False)\n",
    "print(bcn.shape)\n",
    "bcn.head()"
   ]
  },
  {
   "cell_type": "code",
   "execution_count": null,
   "metadata": {},
   "outputs": [],
   "source": [
    "#Comprobamos que no hay fallos viendo los valores unicos de algunas columnas categoricas:\n",
    "cat_columns = ['Nombre_Distrito', 'Nombre_Barrio', 'Dia_Semana', 'Tipo_Vehiculo', 'Tipo_Persona', 'Gravedad_Victima']\n",
    "for column in cat_columns:\n",
    "    print(bcn[column].unique())"
   ]
  },
  {
   "cell_type": "code",
   "execution_count": null,
   "metadata": {},
   "outputs": [],
   "source": [
    "#No parece haber problemas aunque hay muchos nombres con erratas.\n",
    "#Corregimos las erratas a medida que vayan saliendo en la fase de analisis:\n",
    "\n",
    "#Corregimos errores en nombre de distrito:\n",
    "bcn.loc[bcn['Nombre_Distrito'].str.startswith('Horta'), 'Nombre_Distrito'] = 'Horta-Guinardo'\n",
    "bcn.loc[bcn['Nombre_Distrito'].str.startswith('Gr'), 'Nombre_Distrito'] = 'Gracia'\n",
    "bcn.loc[bcn['Nombre_Distrito'].str.startswith('Sant M'), 'Nombre_Distrito'] = 'Sant Marti'\n",
    "bcn.loc[bcn['Nombre_Distrito'].str.startswith('Sarri'), 'Nombre_Distrito'] = 'Sarria-Sant Gervasi'\n",
    "bcn.loc[bcn['Nombre_Distrito'].str.startswith('Sants'), 'Nombre_Distrito'] = 'Sants-Montjuic'\n",
    "\n",
    "#Corregimos errores en nombre de barrio:\n",
    "bcn.loc[bcn['Nombre_Barrio'].str.startswith('Bar'), 'Nombre_Barrio'] = 'Baro de Viver'\n",
    "bcn.loc[bcn['Nombre_Barrio'].str.startswith('Can B'), 'Nombre_Barrio'] = 'Can Baro'\n",
    "bcn.loc[bcn['Nombre_Barrio'].str.startswith('Diagonal Mar i'), 'Nombre_Barrio'] = 'Diagonal Mar i el Front Marítim del Poblenou'\n",
    "bcn.loc[bcn['Nombre_Barrio'].str.startswith('Proven'), 'Nombre_Barrio'] = 'Provençals del Poblenou'\n",
    "bcn.loc[bcn['Nombre_Barrio'].str.startswith('Sant Gen'), 'Nombre_Barrio'] = 'Sant Genís dels Agudells'\n",
    "bcn.loc[bcn['Nombre_Barrio'].str.startswith('Sant Mart'), 'Nombre_Barrio'] = 'Sant Martí de Provençals'\n",
    "bcn.loc[bcn['Nombre_Barrio'].str.startswith('Sarri'), 'Nombre_Barrio'] = 'Sarria'\n",
    "bcn.loc[bcn['Nombre_Barrio'].str.startswith('Torre Bar'), 'Nombre_Barrio'] = 'Torre Baro'\n",
    "bcn.loc[bcn['Nombre_Barrio'].str.startswith('el Baix'), 'Nombre_Barrio'] = 'el Baix Guinardó'\n",
    "bcn.loc[bcn['Nombre_Barrio'].str.startswith('el Bes'), 'Nombre_Barrio'] = 'el Besòs i el Maresme'\n",
    "bcn.loc[bcn['Nombre_Barrio'].str.startswith(\"el Camp d'en\"), 'Nombre_Barrio'] = \"el Camp d'en Grassot i Gràcia Nova\"\n",
    "bcn.loc[bcn['Nombre_Barrio'].str.startswith('el Congr'), 'Nombre_Barrio'] = 'el Congrés i els Indians'\n",
    "bcn.loc[bcn['Nombre_Barrio'].str.startswith('el Guinar'), 'Nombre_Barrio'] = 'el Guinardó'\n",
    "bcn.loc[bcn['Nombre_Barrio'].str.startswith('el Putxet i'), 'Nombre_Barrio'] = 'el Putxet i el Farró'\n",
    "bcn.loc[bcn['Nombre_Barrio'].str.startswith('el Tur'), 'Nombre_Barrio'] = 'el Turó de la Peira'\n",
    "bcn.loc[bcn['Nombre_Barrio'].str.startswith('la Sagrada'), 'Nombre_Barrio'] = 'la Sagrada Família'\n",
    "bcn.loc[bcn['Nombre_Barrio'].str.startswith('la Vila Ol'), 'Nombre_Barrio'] = 'la Vila Olímpica del Poblenou'\n",
    "bcn.loc[bcn['Nombre_Barrio'].str.startswith('la Vila de G'), 'Nombre_Barrio'] = 'la Vila de Gràcia'\n",
    "bcn.loc[bcn['Nombre_Barrio'].str.startswith('el Barri G'), 'Nombre_Barrio'] = 'el Barri Gotic'\n",
    "\n",
    "#Corregimos errores en nombre el tipo de causa:\n",
    "bcn.loc[bcn['Motivo_Causa'].str.startswith('No'), 'Motivo_Causa'] = 'No és causa del  vianant'\n",
    "bcn.loc[bcn['Motivo_Causa'].str.startswith('Transitar'), 'Motivo_Causa'] = 'Transitar a peu per la calçada'\n",
    "bcn.loc[bcn['Motivo_Causa'].str.startswith('Desobeir el'), 'Motivo_Causa'] = 'Desobeir el senyal del semàfor'"
   ]
  },
  {
   "cell_type": "code",
   "execution_count": null,
   "metadata": {
    "scrolled": true
   },
   "outputs": [],
   "source": [
    "#Ahora analizamos el contenido del dataframe:\n",
    "\n",
    "#Verificamos valores nulos y los tipos de columnas:\n",
    "bcn.info()"
   ]
  },
  {
   "cell_type": "code",
   "execution_count": null,
   "metadata": {
    "scrolled": false
   },
   "outputs": [],
   "source": [
    "#Solo situacion tiene valores nulos ya que se empezó a registrar solo en el año 2016.\n",
    "#Mantenemos esos valores así ya que, al ser una variable categorica no nos afectará al analisis.\n",
    "\n",
    "#Sorprende que la variable edad no sea un integer, la analizamos más en profundidad:\n",
    "bcn.Edad.unique()\n"
   ]
  },
  {
   "cell_type": "code",
   "execution_count": null,
   "metadata": {},
   "outputs": [],
   "source": [
    "bcn[bcn.Edad=='Desconegut'].shape"
   ]
  },
  {
   "cell_type": "code",
   "execution_count": null,
   "metadata": {},
   "outputs": [],
   "source": [
    "#Hay 649 casos donde no se conoce la edad. Eso representa menos de un 1% del total.\n",
    "#Para convertir la variable en numerica (sin borrar esas filas) tenemos que darle un valor a Desconegut.\n",
    "#No podemos darle valor 0 porque ya casos con valor 0 (probablemente algun bebe involucrado en un accidente)\n",
    "#Les daremos valor -1000 que, al ser negativo y alto no podremos hacer calculos incluyendolo por error.\n",
    "bcn.loc[bcn.Edad == 'Desconegut', 'Edad'] = -1000\n",
    "#Ahora lo cambiamos a numerico:\n",
    "bcn[\"Edad\"] = pd.to_numeric(bcn[\"Edad\"])\n"
   ]
  },
  {
   "cell_type": "code",
   "execution_count": null,
   "metadata": {},
   "outputs": [],
   "source": [
    "#Ahora revisamos las posibilidades de algunas variables categoricas:\n",
    "print(bcn.Tipo_Dia.unique())"
   ]
  },
  {
   "cell_type": "code",
   "execution_count": null,
   "metadata": {},
   "outputs": [],
   "source": [
    "#Solo hay un tipo de entrada aqui, por lo que podemos borrar esta columna:\n",
    "bcn.drop('Tipo_Dia', inplace=True, axis=1)"
   ]
  },
  {
   "cell_type": "code",
   "execution_count": null,
   "metadata": {
    "scrolled": true
   },
   "outputs": [],
   "source": [
    "print(bcn.Motivo_Causa.unique())"
   ]
  },
  {
   "cell_type": "code",
   "execution_count": null,
   "metadata": {
    "scrolled": true
   },
   "outputs": [],
   "source": [
    "print(bcn.Tipo_Vehiculo.unique())"
   ]
  },
  {
   "cell_type": "code",
   "execution_count": null,
   "metadata": {},
   "outputs": [],
   "source": [
    "#Exiten muchos tipos y erratas, aprovechamos para reducir la lista unificando vehiculos y corrigiendo erratas:\n",
    "bcn.loc[bcn['Tipo_Vehiculo'].str.startswith(\"Autob\"), 'Tipo_Vehiculo'] = \"Autobús\"\n",
    "bcn.loc[bcn['Tipo_Vehiculo'].str.startswith(\"Autocar\"), 'Tipo_Vehiculo'] = \"Autobús\"\n",
    "bcn.loc[bcn['Tipo_Vehiculo'].str.startswith(\"Micro\"), 'Tipo_Vehiculo'] = \"Autobús\"\n",
    "bcn.loc[bcn['Tipo_Vehiculo'].str.startswith(\"Cami\"), 'Tipo_Vehiculo'] = \"Camión\"\n",
    "bcn.loc[bcn['Tipo_Vehiculo'].str.startswith(\"Tracto\"), 'Tipo_Vehiculo'] = \"Camión\"\n",
    "bcn.loc[bcn['Tipo_Vehiculo'].str.startswith(\"Tranv\"), 'Tipo_Vehiculo'] = \"Tranvía o tren\"\n",
    "bcn.loc[bcn['Tipo_Vehiculo'].str.startswith(\"Todo terreno\"), 'Tipo_Vehiculo'] = \"Turismo\"\n",
    "bcn.loc[bcn['Tipo_Vehiculo'].str.startswith(\"Cuadric\"), 'Tipo_Vehiculo'] = \"Motocicleta\"\n",
    "bcn.loc[bcn['Tipo_Vehiculo'].str.startswith(\"Otros\"), 'Tipo_Vehiculo'] = \"Otros vehíc. a motor\""
   ]
  },
  {
   "cell_type": "code",
   "execution_count": null,
   "metadata": {
    "scrolled": true
   },
   "outputs": [],
   "source": [
    "print(bcn.Tipo_Vehiculo.unique())\n",
    "#Ahora hemos reducido los tipos a algo más parecido al dataframe de parque movil que veremos a continuacion."
   ]
  },
  {
   "cell_type": "code",
   "execution_count": null,
   "metadata": {},
   "outputs": [],
   "source": [
    "print(bcn.Tipo_Persona.unique())\n",
    "print(bcn.Situacion.unique())\n",
    "print(bcn.Gravedad_Victima.unique())"
   ]
  },
  {
   "cell_type": "code",
   "execution_count": null,
   "metadata": {},
   "outputs": [],
   "source": [
    "#Estas tres categorias tienen valores normales (excepto los nan que ya hemos comentado)"
   ]
  },
  {
   "cell_type": "code",
   "execution_count": null,
   "metadata": {},
   "outputs": [],
   "source": [
    "#Exportamos el dataframe como csv:\n",
    "bcn.to_csv('bcn.csv', sep='\\t', index = False)"
   ]
  },
  {
   "cell_type": "markdown",
   "metadata": {},
   "source": [
    "Ahora creamos un data frame con los datos del parque automovilistico.\n",
    "Sacamos los datos de: https://www.idescat.cat/pub/?id=aec&n=589&lang=es&t=2016"
   ]
  },
  {
   "cell_type": "code",
   "execution_count": null,
   "metadata": {},
   "outputs": [],
   "source": [
    "columns = ['Año','Turismos','Autobuses','Motocicletas','Camiones','Tractores industriales','Ciclomotores','Otros', 'Total']\n",
    "parque_BCN = pd.DataFrame(columns=columns)\n",
    "\n",
    "#Añadimos los datos de los 6 años analizados:\n",
    "parque_BCN.loc[0] = [2011, 2402574, 6111, 523361, 513009, 15490, 209763, 97125, 3767433]\n",
    "parque_BCN.loc[1] = [2012, 2393017, 5965, 531934, 504822, 14692, 202007, 95333, 3747770]\n",
    "parque_BCN.loc[2] = [2013, 2366511, 5879, 538926, 493579, 14092, 193473, 92739, 3705199]\n",
    "parque_BCN.loc[3] = [2014, 2347766, 5902, 551787, 484340, 14046, 186888, 92008, 3682737]\n",
    "parque_BCN.loc[4] = [2015, 2385649, 5971, 571878, 488554, 14535, 181630, 91445, 3739662]\n",
    "parque_BCN.loc[5] = [2016, 2437180, 6086, 598837, 493881, 15250, 177451, 93240, 3821925]\n",
    "\n",
    "parque_BCN"
   ]
  },
  {
   "cell_type": "code",
   "execution_count": null,
   "metadata": {},
   "outputs": [],
   "source": [
    "#Exportamos el dataframe como csv:\n",
    "parque_BCN.to_csv('parque_BCN.csv', sep='\\t', index = False)"
   ]
  }
 ],
 "metadata": {
  "kernelspec": {
   "display_name": "Python 3",
   "language": "python",
   "name": "python3"
  },
  "language_info": {
   "codemirror_mode": {
    "name": "ipython",
    "version": 3
   },
   "file_extension": ".py",
   "mimetype": "text/x-python",
   "name": "python",
   "nbconvert_exporter": "python",
   "pygments_lexer": "ipython3",
   "version": "3.6.8"
  }
 },
 "nbformat": 4,
 "nbformat_minor": 2
}
